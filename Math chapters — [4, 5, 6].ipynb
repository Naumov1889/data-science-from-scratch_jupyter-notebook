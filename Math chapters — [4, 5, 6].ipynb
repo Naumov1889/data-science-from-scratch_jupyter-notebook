{
 "cells": [
  {
   "cell_type": "markdown",
   "metadata": {
    "toc": true
   },
   "source": [
    "<h1>Table of Contents<span class=\"tocSkip\"></span></h1>\n",
    "<div class=\"toc\"><ul class=\"toc-item\"><li><span><a href=\"#Chapter-4.-Linear-Algebra\" data-toc-modified-id=\"Chapter-4.-Linear-Algebra-1\"><span class=\"toc-item-num\">1&nbsp;&nbsp;</span>Chapter 4. Linear Algebra</a></span><ul class=\"toc-item\"><li><span><a href=\"#Vectors\" data-toc-modified-id=\"Vectors-1.1\"><span class=\"toc-item-num\">1.1&nbsp;&nbsp;</span>Vectors</a></span><ul class=\"toc-item\"><li><span><a href=\"#Addition-of-two-vectors\" data-toc-modified-id=\"Addition-of-two-vectors-1.1.1\"><span class=\"toc-item-num\">1.1.1&nbsp;&nbsp;</span>Addition of two vectors</a></span></li><li><span><a href=\"#Subtraction-of-two-vectors\" data-toc-modified-id=\"Subtraction-of-two-vectors-1.1.2\"><span class=\"toc-item-num\">1.1.2&nbsp;&nbsp;</span>Subtraction of two vectors</a></span></li><li><span><a href=\"#Sum-a-list-of-vectors\" data-toc-modified-id=\"Sum-a-list-of-vectors-1.1.3\"><span class=\"toc-item-num\">1.1.3&nbsp;&nbsp;</span>Sum a list of vectors</a></span></li><li><span><a href=\"#Multiply-a-vector-by-a-scalar,\" data-toc-modified-id=\"Multiply-a-vector-by-a-scalar,-1.1.4\"><span class=\"toc-item-num\">1.1.4&nbsp;&nbsp;</span>Multiply a vector by a scalar,</a></span></li><li><span><a href=\"#Componentwise-means-of-a-list\" data-toc-modified-id=\"Componentwise-means-of-a-list-1.1.5\"><span class=\"toc-item-num\">1.1.5&nbsp;&nbsp;</span>Componentwise means of a list</a></span></li><li><span><a href=\"#Dot-product\" data-toc-modified-id=\"Dot-product-1.1.6\"><span class=\"toc-item-num\">1.1.6&nbsp;&nbsp;</span>Dot product</a></span></li><li><span><a href=\"#Sum-of-squares\" data-toc-modified-id=\"Sum-of-squares-1.1.7\"><span class=\"toc-item-num\">1.1.7&nbsp;&nbsp;</span>Sum of squares</a></span></li><li><span><a href=\"#Magnitude\" data-toc-modified-id=\"Magnitude-1.1.8\"><span class=\"toc-item-num\">1.1.8&nbsp;&nbsp;</span>Magnitude</a></span></li><li><span><a href=\"#Distance-between-two-vectors\" data-toc-modified-id=\"Distance-between-two-vectors-1.1.9\"><span class=\"toc-item-num\">1.1.9&nbsp;&nbsp;</span>Distance between two vectors</a></span></li></ul></li><li><span><a href=\"#Matrices\" data-toc-modified-id=\"Matrices-1.2\"><span class=\"toc-item-num\">1.2&nbsp;&nbsp;</span>Matrices</a></span><ul class=\"toc-item\"><li><span><a href=\"#shape()\" data-toc-modified-id=\"shape()-1.2.1\"><span class=\"toc-item-num\">1.2.1&nbsp;&nbsp;</span>shape()</a></span></li><li><span><a href=\"#make_matrix()\" data-toc-modified-id=\"make_matrix()-1.2.2\"><span class=\"toc-item-num\">1.2.2&nbsp;&nbsp;</span>make_matrix()</a></span></li><li><span><a href=\"#Application?\" data-toc-modified-id=\"Application?-1.2.3\"><span class=\"toc-item-num\">1.2.3&nbsp;&nbsp;</span>Application?</a></span></li></ul></li></ul></li><li><span><a href=\"#Chapter-5.-Statistics\" data-toc-modified-id=\"Chapter-5.-Statistics-2\"><span class=\"toc-item-num\">2&nbsp;&nbsp;</span>Chapter 5. Statistics</a></span><ul class=\"toc-item\"><li><span><a href=\"#Describing-a-Single-Set-of-Data\" data-toc-modified-id=\"Describing-a-Single-Set-of-Data-2.1\"><span class=\"toc-item-num\">2.1&nbsp;&nbsp;</span>Describing a Single Set of Data</a></span></li><li><span><a href=\"#Central-Tendencies\" data-toc-modified-id=\"Central-Tendencies-2.2\"><span class=\"toc-item-num\">2.2&nbsp;&nbsp;</span>Central Tendencies</a></span></li><li><span><a href=\"#Percentile\" data-toc-modified-id=\"Percentile-2.3\"><span class=\"toc-item-num\">2.3&nbsp;&nbsp;</span>Percentile</a></span></li><li><span><a href=\"#Percentage\" data-toc-modified-id=\"Percentage-2.4\"><span class=\"toc-item-num\">2.4&nbsp;&nbsp;</span>Percentage</a></span></li><li><span><a href=\"#Dispersion\" data-toc-modified-id=\"Dispersion-2.5\"><span class=\"toc-item-num\">2.5&nbsp;&nbsp;</span>Dispersion</a></span><ul class=\"toc-item\"><li><span><a href=\"#Variance-and-Standard-deviation\" data-toc-modified-id=\"Variance-and-Standard-deviation-2.5.1\"><span class=\"toc-item-num\">2.5.1&nbsp;&nbsp;</span>Variance and Standard deviation</a></span></li></ul></li><li><span><a href=\"#Correlation\" data-toc-modified-id=\"Correlation-2.6\"><span class=\"toc-item-num\">2.6&nbsp;&nbsp;</span>Correlation</a></span><ul class=\"toc-item\"><li><span><a href=\"#Simpson’s-Paradox\" data-toc-modified-id=\"Simpson’s-Paradox-2.6.1\"><span class=\"toc-item-num\">2.6.1&nbsp;&nbsp;</span>Simpson’s Paradox</a></span></li><li><span><a href=\"#Some-Other-Correlational-Caveats\" data-toc-modified-id=\"Some-Other-Correlational-Caveats-2.6.2\"><span class=\"toc-item-num\">2.6.2&nbsp;&nbsp;</span>Some Other Correlational Caveats</a></span></li><li><span><a href=\"#Correlation-and-Causation\" data-toc-modified-id=\"Correlation-and-Causation-2.6.3\"><span class=\"toc-item-num\">2.6.3&nbsp;&nbsp;</span>Correlation and Causation</a></span></li></ul></li></ul></li><li><span><a href=\"#Chapter-6.-Probability\" data-toc-modified-id=\"Chapter-6.-Probability-3\"><span class=\"toc-item-num\">3&nbsp;&nbsp;</span>Chapter 6. Probability</a></span><ul class=\"toc-item\"><li><span><a href=\"#Dependence-and-Independence\" data-toc-modified-id=\"Dependence-and-Independence-3.1\"><span class=\"toc-item-num\">3.1&nbsp;&nbsp;</span>Dependence and Independence</a></span></li><li><span><a href=\"#Conditional-Probability\" data-toc-modified-id=\"Conditional-Probability-3.2\"><span class=\"toc-item-num\">3.2&nbsp;&nbsp;</span>Conditional Probability</a></span></li><li><span><a href=\"#Bayes’s-Theorem\" data-toc-modified-id=\"Bayes’s-Theorem-3.3\"><span class=\"toc-item-num\">3.3&nbsp;&nbsp;</span>Bayes’s Theorem</a></span></li><li><span><a href=\"#Random-Variables\" data-toc-modified-id=\"Random-Variables-3.4\"><span class=\"toc-item-num\">3.4&nbsp;&nbsp;</span>Random Variables</a></span></li><li><span><a href=\"#Continuous-Distributions\" data-toc-modified-id=\"Continuous-Distributions-3.5\"><span class=\"toc-item-num\">3.5&nbsp;&nbsp;</span>Continuous Distributions</a></span></li></ul></li></ul></div>"
   ]
  },
  {
   "cell_type": "markdown",
   "metadata": {},
   "source": [
    "# Chapter 4. Linear Algebra\n",
    "Linear algebra is the branch of mathematics that deals with *vector spaces*. \n",
    "## Vectors\n",
    "Abstractly, *vectors* are objects that can be added together (to form new vectors) and that can be multiplied by *scalars* (i.e., numbers), also to form new vectors.\n",
    "<br>\n",
    "<br>\n",
    "Concretely (for us), vectors are points in some finite-dimensional space. Although you might not think of your data as vectors, they are a good way to represent numeric data.\n",
    "<br>\n",
    "<br>\n",
    "For example, if you have the heights, weights, and ages of a large number of people, you can treat your data as three-dimensional vectors (height, weight, age). If you’re teaching a class with four exams, you can treat student grades as four-dimensional vectors (exam1, exam2, exam3, exam4).\n",
    "<br>\n",
    "<br>\n",
    "The simplest from-scratch approach is to represent vectors as lists of numbers. A list of three numbers corresponds to a vector in three-dimensional space, and vice versa:"
   ]
  },
  {
   "cell_type": "code",
   "execution_count": 37,
   "metadata": {},
   "outputs": [],
   "source": [
    "height_weight_age = [70,  # inches,\n",
    "                     170, # pounds,\n",
    "                     40 ] # years\n",
    "\n",
    "grades = [95,   # exam1\n",
    "          80,   # exam2\n",
    "          75,   # exam3\n",
    "          62 ]  # exam4"
   ]
  },
  {
   "cell_type": "markdown",
   "metadata": {},
   "source": [
    "Using <span style='background-color: #ef9494'>lists as vectors</span> is great for exposition but <span style='background-color: #ef9494'>terrible for performance</span>. In production code, you would want to <span style='background-color: #bcef94'>use the NumPy library</span>, which includes a high-performance array class with all sorts of arithmetic operations included.\n",
    "\n",
    "One problem with this approach is that we will want to perform arithmetic on vectors. Because Python lists aren’t vectors (and hence provide no facilities for vector arithmetic), we’ll need to build these arithmetic tools ourselves.\n",
    "\n",
    "### Addition of two vectors\n",
    "To begin with, we’ll frequently need to add two vectors. Vectors add *componentwise*. This means that if two vectors v and w are the same length, their sum is just the vector whose first element is **v[0] + w[0]**, whose second element is **v[1] + w[1]**, and so on. (If they’re not the same length, then we’re not allowed to add them.) \n",
    "<br>\n",
    "<br>\n",
    "For example, adding the vectors **[1, 2]** and **[2, 1]** results in **[1 + 2, 2 + 1]** or **[3, 3]** :\n",
    "<img src='https://i.imgur.com/8ClOHy4.jpg'>\n",
    "\n",
    "<br>\n",
    "We can easily implement this by zip-ing the vectors together and using a list comprehension to add the corresponding elements:"
   ]
  },
  {
   "cell_type": "code",
   "execution_count": 38,
   "metadata": {},
   "outputs": [
    {
     "data": {
      "text/plain": [
       "[8, 6]"
      ]
     },
     "execution_count": 38,
     "metadata": {},
     "output_type": "execute_result"
    }
   ],
   "source": [
    "def vector_add(v, w):\n",
    "    \"\"\"adds corresponding elements\"\"\"\n",
    "    return [v_i + w_i\n",
    "            for v_i, w_i in zip(v, w)]\n",
    "\n",
    "vector_add([3,2], [5,4])"
   ]
  },
  {
   "cell_type": "markdown",
   "metadata": {},
   "source": [
    "### Subtraction of two vectors\n",
    "Similarly, to subtract two vectors we just subtract corresponding elements:"
   ]
  },
  {
   "cell_type": "code",
   "execution_count": 39,
   "metadata": {},
   "outputs": [
    {
     "data": {
      "text/plain": [
       "[-2, -2]"
      ]
     },
     "execution_count": 39,
     "metadata": {},
     "output_type": "execute_result"
    }
   ],
   "source": [
    "def vector_subtract(v, w):\n",
    "    \"\"\"subtracts corresponding elements\"\"\"\n",
    "    return [v_i - w_i\n",
    "            for v_i, w_i in zip(v, w)]\n",
    "\n",
    "vector_subtract([3,2], [5,4])"
   ]
  },
  {
   "cell_type": "markdown",
   "metadata": {},
   "source": [
    "### Sum a list of vectors\n",
    "We’ll also sometimes want to componentwise sum a list of vectors. That is, create a new vector whose first element is the sum of all the first elements, whose second element is the sum of all the second elements, and so on. The easiest way to do this is by adding one vector at a time:"
   ]
  },
  {
   "cell_type": "code",
   "execution_count": 40,
   "metadata": {},
   "outputs": [
    {
     "data": {
      "text/plain": [
       "[9, 7]"
      ]
     },
     "execution_count": 40,
     "metadata": {},
     "output_type": "execute_result"
    }
   ],
   "source": [
    "def vector_sum(vectors):\n",
    "    \"\"\"sums all corresponding elements\"\"\"\n",
    "    result = vectors[0]                       # start with the first vector\n",
    "    for vector in vectors[1:]:                # then loop over the others\n",
    "        result = vector_add(result, vector)   # and add them to the result\n",
    "    return result\n",
    "\n",
    "vector_sum([[3,2], [5,4], [1,1]])"
   ]
  },
  {
   "cell_type": "markdown",
   "metadata": {},
   "source": [
    "If you think about it, we are just *reduce*-ing the list of vectors using *vector_add*, which means we can rewrite this more briefly using higher-order functions:"
   ]
  },
  {
   "cell_type": "code",
   "execution_count": 41,
   "metadata": {},
   "outputs": [
    {
     "data": {
      "text/plain": [
       "[9, 7]"
      ]
     },
     "execution_count": 41,
     "metadata": {},
     "output_type": "execute_result"
    }
   ],
   "source": [
    "from functools import reduce\n",
    "\n",
    "def vector_sum(vectors):\n",
    "    return reduce(vector_add, vectors)\n",
    "\n",
    "vector_sum([[3,2], [5,4], [1,1]])"
   ]
  },
  {
   "cell_type": "markdown",
   "metadata": {},
   "source": [
    "or even (more clever than helpful):"
   ]
  },
  {
   "cell_type": "code",
   "execution_count": 42,
   "metadata": {},
   "outputs": [
    {
     "data": {
      "text/plain": [
       "[9, 7]"
      ]
     },
     "execution_count": 42,
     "metadata": {},
     "output_type": "execute_result"
    }
   ],
   "source": [
    "from functools import reduce\n",
    "from functools import partial\n",
    "\n",
    "vector_sum = partial(reduce, vector_add)\n",
    "\n",
    "vector_sum([[3,2], [5,4], [1,1]])"
   ]
  },
  {
   "cell_type": "markdown",
   "metadata": {},
   "source": [
    "### Multiply a vector by a scalar, \n",
    "Multiplying each element of the vector by that number:"
   ]
  },
  {
   "cell_type": "code",
   "execution_count": 43,
   "metadata": {},
   "outputs": [
    {
     "data": {
      "text/plain": [
       "[6, 4]"
      ]
     },
     "execution_count": 43,
     "metadata": {},
     "output_type": "execute_result"
    }
   ],
   "source": [
    "def scalar_multiply(c, v):\n",
    "    \"\"\"c is a number, v is a vector\"\"\"\n",
    "    return [c * v_i for v_i in v]\n",
    "\n",
    "scalar_multiply(2, [3,2])"
   ]
  },
  {
   "cell_type": "markdown",
   "metadata": {},
   "source": [
    "### Componentwise means of a list\n",
    "This allows us to compute the componentwise means of a list of (same-sized) vectors:"
   ]
  },
  {
   "cell_type": "code",
   "execution_count": 44,
   "metadata": {},
   "outputs": [
    {
     "data": {
      "text/plain": [
       "[3.0, 2.333333333333333]"
      ]
     },
     "execution_count": 44,
     "metadata": {},
     "output_type": "execute_result"
    }
   ],
   "source": [
    "def vector_mean(vectors):\n",
    "    \"\"\"compute the vector whose ith element is the mean of the\n",
    "    ith elements of the input vectors\"\"\"\n",
    "    n = len(vectors)\n",
    "    return scalar_multiply(1/n, vector_sum(vectors))\n",
    "\n",
    "vector_mean([[3,2], [5,4], [1,1]])"
   ]
  },
  {
   "cell_type": "markdown",
   "metadata": {},
   "source": [
    "### Dot product\n",
    "A less obvious tool is the dot product. The dot product of two vectors is the sum of their\n",
    "componentwise products:"
   ]
  },
  {
   "cell_type": "code",
   "execution_count": 45,
   "metadata": {},
   "outputs": [
    {
     "data": {
      "text/plain": [
       "23"
      ]
     },
     "execution_count": 45,
     "metadata": {},
     "output_type": "execute_result"
    }
   ],
   "source": [
    "def dot(v, w):\n",
    "    \"\"\"v_1 * w_1 + ... + v_n * w_n\"\"\"\n",
    "    return sum(v_i * w_i\n",
    "               for v_i, w_i in zip(v, w))\n",
    "\n",
    "dot([3,2], [5,4])"
   ]
  },
  {
   "cell_type": "markdown",
   "metadata": {},
   "source": [
    "The dot product measures how far the vector v extends in the w direction. For example, if\n",
    "**w = [1, 0]** then **dot(v, w)** is just the first component of **v**. <br>\n",
    "Another way of saying this is that it’s the length of the vector you’d get if you *projected* **v** onto **w**:\n",
    "<img src='https://i.imgur.com/SNvQdjq.jpg'>"
   ]
  },
  {
   "cell_type": "markdown",
   "metadata": {},
   "source": [
    "### Sum of squares\n",
    "Using **dot()**, it’s easy to compute a vector’s sum of squares:"
   ]
  },
  {
   "cell_type": "code",
   "execution_count": 46,
   "metadata": {},
   "outputs": [
    {
     "data": {
      "text/plain": [
       "49"
      ]
     },
     "execution_count": 46,
     "metadata": {},
     "output_type": "execute_result"
    }
   ],
   "source": [
    "def sum_of_squares(v):\n",
    "    \"\"\"v_1 * v_1 + ... + v_n * v_n\"\"\"\n",
    "    return dot(v, v)\n",
    "\n",
    "sum_of_squares([3,2,6])  # 3*3 + 2*2 + 6*6 = 49"
   ]
  },
  {
   "cell_type": "markdown",
   "metadata": {},
   "source": [
    "### Magnitude\n",
    "Which we can use to compute its magnitude (or length):"
   ]
  },
  {
   "cell_type": "code",
   "execution_count": 47,
   "metadata": {},
   "outputs": [
    {
     "data": {
      "text/plain": [
       "7.0"
      ]
     },
     "execution_count": 47,
     "metadata": {},
     "output_type": "execute_result"
    }
   ],
   "source": [
    "import math\n",
    "\n",
    "def magnitude(v):\n",
    "    return math.sqrt(sum_of_squares(v))  # math.sqrt is square root function\n",
    "\n",
    "magnitude([3,2,6])  # sqrt(49) = 7"
   ]
  },
  {
   "cell_type": "markdown",
   "metadata": {},
   "source": [
    "### Distance between two vectors\n",
    "We now have all the pieces we need to compute the distance between two vectors, defined\n",
    "as:\n",
    "<img src='https://i.imgur.com/AYxdN26.jpg'>"
   ]
  },
  {
   "cell_type": "code",
   "execution_count": 48,
   "metadata": {},
   "outputs": [
    {
     "data": {
      "text/plain": [
       "2.8284271247461903"
      ]
     },
     "execution_count": 48,
     "metadata": {},
     "output_type": "execute_result"
    }
   ],
   "source": [
    "def squared_distance(v, w):\n",
    "    \"\"\"(v_1 - w_1) ** 2 + ... + (v_n - w_n) ** 2\"\"\"\n",
    "    return sum_of_squares(vector_subtract(v, w))\n",
    "\n",
    "def distance(v, w):\n",
    "    return math.sqrt(squared_distance(v, w))\n",
    "\n",
    "distance([3,2], [5,4])  # [3,2] and [5,4] are coordinates in R2 \n",
    "                        # Then using Pythagorean theorem we get following:\n",
    "                        # both legs are equal to 2. \n",
    "                        # So, hypotenuse(distance) = sqrt(2^2 + 2^2) = 2.8..."
   ]
  },
  {
   "cell_type": "markdown",
   "metadata": {},
   "source": [
    "Which is possibly clearer if we write it as (the equivalent):"
   ]
  },
  {
   "cell_type": "code",
   "execution_count": 49,
   "metadata": {},
   "outputs": [
    {
     "data": {
      "text/plain": [
       "2.8284271247461903"
      ]
     },
     "execution_count": 49,
     "metadata": {},
     "output_type": "execute_result"
    }
   ],
   "source": [
    "def distance(v, w):\n",
    "    return magnitude(vector_subtract(v, w))\n",
    "\n",
    "distance([3,2], [5,4])"
   ]
  },
  {
   "cell_type": "markdown",
   "metadata": {},
   "source": [
    "## Matrices"
   ]
  },
  {
   "cell_type": "markdown",
   "metadata": {},
   "source": [
    "A matrix is a <span style='background-color: yellow'>two-dimensional collection of numbers</span>. We will represent matrices as lists\n",
    "of lists, with each inner list having the same size and representing a row of the matrix. If A is a matrix, then A[i][j] is the element in the ith row and the jth column. Per mathematical convention, we will typically use capital letters to represent matrices."
   ]
  },
  {
   "cell_type": "code",
   "execution_count": 50,
   "metadata": {},
   "outputs": [],
   "source": [
    "A = [[1, 2, 3],  # A has 2 rows and 3 columns\n",
    "     [4, 5, 6]]\n",
    "\n",
    "B = [[1, 2],     # B has 3 rows and 2 columns\n",
    "     [3, 4],\n",
    "     [5, 6]]"
   ]
  },
  {
   "cell_type": "markdown",
   "metadata": {},
   "source": [
    "<span style='font-size: 18px; font-color: grey'>NOTE</span>:\n",
    "In mathematics, 1st row — row 1, 1sth column — column. But in Python, 1st row — row 0, 1st column — column 0."
   ]
  },
  {
   "cell_type": "markdown",
   "metadata": {},
   "source": [
    "### shape() \n",
    "Given this list-of-lists representation, the matrix A has len(A) rows and len(A[0])\n",
    "columns, which we consider its shape:"
   ]
  },
  {
   "cell_type": "code",
   "execution_count": 51,
   "metadata": {},
   "outputs": [
    {
     "data": {
      "text/plain": [
       "(3, 2)"
      ]
     },
     "execution_count": 51,
     "metadata": {},
     "output_type": "execute_result"
    }
   ],
   "source": [
    "def shape(A):\n",
    "    num_rows = len(A)\n",
    "    num_cols = len(A[0]) if A else 0 # number of elements in first row\n",
    "    return num_rows, num_cols\n",
    "\n",
    "shape(B)"
   ]
  },
  {
   "cell_type": "markdown",
   "metadata": {},
   "source": [
    "If a matrix has n rows and k columns, we will refer to it as a ***n x k*** matrix. We can (and sometimes will) think of each row of a ***n x k*** matrix as a vector of length k, and each column as a vector of length n:"
   ]
  },
  {
   "cell_type": "code",
   "execution_count": 52,
   "metadata": {},
   "outputs": [
    {
     "data": {
      "text/plain": [
       "([5, 6], [2, 4, 6])"
      ]
     },
     "execution_count": 52,
     "metadata": {},
     "output_type": "execute_result"
    }
   ],
   "source": [
    "def get_row(A, i):\n",
    "    return A[i] # A[i] is already the ith row\n",
    "\n",
    "def get_column(A, j):\n",
    "    return [A_i[j] # jth element of row A_i\n",
    "            for A_i in A] # for each row A_i\n",
    "\n",
    "get_row(B, 2), get_column(B, 1)"
   ]
  },
  {
   "cell_type": "markdown",
   "metadata": {},
   "source": [
    "### make_matrix()\n",
    "We’ll also want to be able to create a matrix given its shape and a function for generating its elements. We can do this using a nested list comprehension:"
   ]
  },
  {
   "cell_type": "code",
   "execution_count": 53,
   "metadata": {},
   "outputs": [],
   "source": [
    "def make_matrix(num_rows, num_cols, entry_fn):\n",
    "    \"\"\"returns a num_rows x num_cols matrix\n",
    "    whose (i,j)th entry is entry_fn(i, j)\"\"\"\n",
    "    return [[entry_fn(i, j)             # given i, create a list\n",
    "             for j in range(num_cols)]  # [entry_fn(i, 0), ... ]\n",
    "            for i in range(num_rows)]   # create one list for each i\n",
    "\n"
   ]
  },
  {
   "cell_type": "markdown",
   "metadata": {},
   "source": [
    "Given make_matrix(), you could make a ***5 × 5 identity matrix*** (with 1s on the diagonal and 0s elsewhere) with:"
   ]
  },
  {
   "cell_type": "code",
   "execution_count": 54,
   "metadata": {},
   "outputs": [
    {
     "data": {
      "text/plain": [
       "[[1, 0, 0, 0, 0],\n",
       " [0, 1, 0, 0, 0],\n",
       " [0, 0, 1, 0, 0],\n",
       " [0, 0, 0, 1, 0],\n",
       " [0, 0, 0, 0, 1]]"
      ]
     },
     "execution_count": 54,
     "metadata": {},
     "output_type": "execute_result"
    }
   ],
   "source": [
    "def is_diagonal(i, j):\n",
    "    \"\"\"1's on the 'diagonal', 0's everywhere else\"\"\"\n",
    "    return 1 if i == j else 0\n",
    "\n",
    "identity_matrix = make_matrix(5, 5, is_diagonal)               \n",
    "identity_matrix"
   ]
  },
  {
   "cell_type": "markdown",
   "metadata": {},
   "source": [
    "### Application?\n",
    "1) We can use a matrix <span style='background-color: yellow'>to represent a data set</span> consisting of multiple vectors, simply by considering each vector as a row of the matrix. For example, if you had the heights, weights, and ages of 1,000 people you could put them in a **1,000 x 3** matrix:"
   ]
  },
  {
   "cell_type": "code",
   "execution_count": 55,
   "metadata": {},
   "outputs": [],
   "source": [
    "data = [[70, 170, 40],\n",
    "        [65, 120, 26],\n",
    "        [77, 250, 19],\n",
    "        # ....\n",
    "       ]"
   ]
  },
  {
   "cell_type": "markdown",
   "metadata": {},
   "source": [
    "<br>\n",
    "2) We can use an matrix <span style='background-color: yellow'>to represent a linear function that maps k-dimensional vectors to n-dimensional vectors</span>. Several of our techniques and concepts will involve such functions. \n",
    "<br>\n",
    "<br>\n",
    "3) Matrices can be used <span style='background-color: yellow'>to represent binary relationships</span>. In Chapter 1, we represented the edges of a network as a collection of pairs (i, j). An alternative representation would be to create a matrix A such that A[i][j] is 1 if nodes i and j are connected and 0 otherwise."
   ]
  },
  {
   "cell_type": "code",
   "execution_count": 56,
   "metadata": {},
   "outputs": [],
   "source": [
    "friendships = [(0, 1), (0, 2), (1, 2), (1, 3), (2, 3), (3, 4),\n",
    "               (4, 5), (5, 6), (5, 7), (6, 8), (7, 8), (8, 9)]\n",
    "\n",
    "        # user  0  1  2  3  4  5  6  7  8  9\n",
    "        #\n",
    "friendships = [[0, 1, 1, 0, 0, 0, 0, 0, 0, 0], # user 0\n",
    "               [1, 0, 1, 1, 0, 0, 0, 0, 0, 0], # user 1\n",
    "               [1, 1, 0, 1, 0, 0, 0, 0, 0, 0], # user 2\n",
    "               [0, 1, 1, 0, 1, 0, 0, 0, 0, 0], # user 3\n",
    "               [0, 0, 0, 1, 0, 1, 0, 0, 0, 0], # user 4\n",
    "               [0, 0, 0, 0, 1, 0, 1, 1, 0, 0], # user 5\n",
    "               [0, 0, 0, 0, 0, 1, 0, 0, 1, 0], # user 6\n",
    "               [0, 0, 0, 0, 0, 1, 0, 0, 1, 0], # user 7\n",
    "               [0, 0, 0, 0, 0, 0, 1, 1, 0, 1], # user 8\n",
    "               [0, 0, 0, 0, 0, 0, 0, 0, 1, 0]] # user 9"
   ]
  },
  {
   "cell_type": "markdown",
   "metadata": {},
   "source": [
    "If there are very few connections, this is a much more inefficient representation, since you end up having to store a lot of zeroes. However, with the matrix representation it is much quicker to check whether two nodes are connected — you just have to do a matrix lookup instead of (potentially) inspecting every edge:"
   ]
  },
  {
   "cell_type": "code",
   "execution_count": 57,
   "metadata": {},
   "outputs": [
    {
     "data": {
      "text/plain": [
       "False"
      ]
     },
     "execution_count": 57,
     "metadata": {},
     "output_type": "execute_result"
    }
   ],
   "source": [
    "friendships[0][2] == 1 # True, 0 and 2 are friends\n",
    "friendships[0][8] == 1 # False, 0 and 8 are not friends"
   ]
  },
  {
   "cell_type": "markdown",
   "metadata": {},
   "source": [
    "Similarly, to find the connections a node has, you only need to inspect the column (or the row) corresponding to that node:"
   ]
  },
  {
   "cell_type": "code",
   "execution_count": 58,
   "metadata": {},
   "outputs": [
    {
     "data": {
      "text/plain": [
       "[4, 6, 7]"
      ]
     },
     "execution_count": 58,
     "metadata": {},
     "output_type": "execute_result"
    }
   ],
   "source": [
    "friends_of_five = [i                                             # only need\n",
    "                   for i, is_friend in enumerate(friendships[5]) # to look at\n",
    "                   if is_friend]                                 # one row\n",
    "\n",
    "friends_of_five"
   ]
  },
  {
   "cell_type": "markdown",
   "metadata": {},
   "source": [
    "Previously we added a list of connections to each node object to speed up this process, but for a large, evolving graph that would probably be too expensive and difficult to maintain."
   ]
  },
  {
   "cell_type": "markdown",
   "metadata": {},
   "source": [
    "# Chapter 5. Statistics\n",
    "Statistics refers to the mathematics and techniques with which we understand data.\n",
    "\n",
    "## Describing a Single Set of Data\n",
    "One obvious description of any data set is simply the data itself"
   ]
  },
  {
   "cell_type": "code",
   "execution_count": 75,
   "metadata": {},
   "outputs": [],
   "source": [
    "num_friends = [100, 49, 41, 40, 25,\n",
    "               # ... and lots more\n",
    "              ]"
   ]
  },
  {
   "cell_type": "markdown",
   "metadata": {},
   "source": [
    "For a small enough data set this might even be the best description. But for a larger data set, this is unwieldy and probably opaque. (Imagine staring at a list of 1 million numbers.) For that reason we use statistics to distill and communicate relevant features of our data.\n",
    "<br>\n",
    "<br>\n",
    "As a first approach you put the friend counts into a histogram using Counter and plt.bar()"
   ]
  },
  {
   "cell_type": "code",
   "execution_count": 77,
   "metadata": {},
   "outputs": [
    {
     "data": {
      "image/png": "[encoded data removed]",
      "text/plain": [
       "<Figure size 720x720 with 1 Axes>"
      ]
     },
     "metadata": {},
     "output_type": "display_data"
    }
   ],
   "source": [
    "from collections import Counter\n",
    "import matplotlib.pyplot as plt\n",
    "from random import randint\n",
    "\n",
    "#num_friends = [randint(0, 25) for _ in range(300)]  # say most of people have 0-20 friends\n",
    "#num_friends.extend([48, 48, 50, 100, 100])  # but some have more\n",
    "friends_count = Counter(num_friends)\n",
    "\n",
    "plt.figure(figsize=(10, 10))\n",
    "plt.bar(friends_count.keys(), friends_count.values())\n",
    "plt.axis([-1, 101, 0, 25])\n",
    "plt.title(\"Histogram of Friend Counts\")\n",
    "plt.xlabel(\"# of friends\")\n",
    "plt.ylabel(\"# of people\")\n",
    "plt.show()"
   ]
  },
  {
   "cell_type": "markdown",
   "metadata": {},
   "source": [
    "Unfortunately, this chart is still too difficult to slip into conversations. So you start generating some statistics. Probably the simplest statistic is simply the number of data points:"
   ]
  },
  {
   "cell_type": "code",
   "execution_count": 78,
   "metadata": {},
   "outputs": [
    {
     "data": {
      "text/plain": [
       "204"
      ]
     },
     "execution_count": 78,
     "metadata": {},
     "output_type": "execute_result"
    }
   ],
   "source": [
    "num_points = len(num_friends) # 305\n",
    "num_points"
   ]
  },
  {
   "cell_type": "markdown",
   "metadata": {},
   "source": [
    "You’re probably also interested in the largest and smallest values:"
   ]
  },
  {
   "cell_type": "code",
   "execution_count": 80,
   "metadata": {},
   "outputs": [],
   "source": [
    "largest_value = max(num_friends) # 100\n",
    "smallest_value = min(num_friends) # 0"
   ]
  },
  {
   "cell_type": "markdown",
   "metadata": {},
   "source": [
    "which are just special cases of wanting to know the values in specific positions:"
   ]
  },
  {
   "cell_type": "code",
   "execution_count": 81,
   "metadata": {},
   "outputs": [],
   "source": [
    "sorted_values = sorted(num_friends)\n",
    "smallest_value = sorted_values[0] # 1\n",
    "second_smallest_value = sorted_values[1] # 1\n",
    "second_largest_value = sorted_values[-2] # 49"
   ]
  },
  {
   "cell_type": "markdown",
   "metadata": {},
   "source": [
    "## Central Tendencies\n",
    "<img src='https://sites.google.com/a/mgsd70.org/mrs-jonota/_/rsrc/1462459943929/spelling/mean-median-mode-and-range/Mean-Median-Mode-and-Range.png' width=500>\n",
    "<br>\n",
    "Usually, we’ll want some notion of where our data is centered. Most commonly we’ll use the <span style='background-color: yellow'>*mean (or average)*, which is just the sum of the data divided by its count</span>:"
   ]
  },
  {
   "cell_type": "code",
   "execution_count": 64,
   "metadata": {},
   "outputs": [
    {
     "data": {
      "text/plain": [
       "5.0"
      ]
     },
     "execution_count": 64,
     "metadata": {},
     "output_type": "execute_result"
    }
   ],
   "source": [
    "# this isn't right if you don't from __future__ import division\n",
    "def mean(x):\n",
    "    return sum(x) / len(x)\n",
    "\n",
    "my_array = [9, 3, 1, 8, 3, 6]\n",
    "mean(my_array)  # 9 + 3 + 1 + 8 + 3 + 6 = 30\n",
    "                # 30 / 6 = 5"
   ]
  },
  {
   "cell_type": "markdown",
   "metadata": {},
   "source": [
    "If you have two data points, the *mean* is simply the point halfway between them. As you\n",
    "add more points, the mean shifts around, but it always depends on the value of every\n",
    "point.\n",
    "<br>\n",
    "<br>\n",
    "We’ll also sometimes be interested in the <span style='background-color: yellow'>*median*, which is the middle-most value</span> (if the number of data points is odd) or the average of the two middle-most values (if the number of data points is even).\n",
    "<br>\n",
    "<br>\n",
    "For instance, if we have five data points in a sorted vector x, the median is x[5 // 2] or x[2]. If we have six data points, we want the average of x[2] (the third point) and x[3] (the fourth point).\n",
    "<br>\n",
    "<br>\n",
    "Notice that — unlike the mean — the median doesn’t depend on every value in your data.\n",
    "For example, if you make the largest point larger (or the smallest point smaller), the\n",
    "middle points remain unchanged, which means so does the median.\n",
    "<br>\n",
    "<br>\n",
    "The median function is slightly more complicated than you might expect, mostly because\n",
    "of the “even” case:"
   ]
  },
  {
   "cell_type": "code",
   "execution_count": 65,
   "metadata": {},
   "outputs": [
    {
     "data": {
      "text/plain": [
       "4.5"
      ]
     },
     "execution_count": 65,
     "metadata": {},
     "output_type": "execute_result"
    }
   ],
   "source": [
    "def median(v):\n",
    "    \"\"\"finds the 'middle-most' value of v\"\"\"\n",
    "    n = len(v)\n",
    "    sorted_v = sorted(v)\n",
    "    midpoint = n // 2\n",
    "    \n",
    "    if n % 2 == 1:\n",
    "        # if odd, return the middle value\n",
    "        return sorted_v[midpoint]\n",
    "    else:\n",
    "        # if even, return the average of the middle values\n",
    "        lo = midpoint - 1\n",
    "        hi = midpoint\n",
    "        return (sorted_v[lo] + sorted_v[hi]) / 2\n",
    "\n",
    "my_array = [9, 3, 1, 8, 3, 6]\n",
    "median(my_array) # 1 3 3 6 8 9\n",
    "                 # (3 + 6) / 2 = 4.5"
   ]
  },
  {
   "cell_type": "markdown",
   "metadata": {},
   "source": [
    "Clearly, the mean is simpler to compute, and it varies smoothly as our data changes. If we have n data points and one of them increases by some small amount e, then necessarily the mean will increase by e / n. (This makes the mean amenable to all sorts of calculus tricks). Whereas in order to find the median, we have to sort our data. And changing one of our data points by a small amount e might increase the median by e, by some number less than e, or not at all (depending on the rest of the data).\n",
    "<br>\n",
    "<br>\n",
    "At the same time, the mean is very sensitive to outliers in our data. If our friendliest user had 200 friends (instead of 100), then the mean would rise to 7.82, while the median would stay the same. If outliers are likely to be bad data (or otherwise unrepresentative of whatever phenomenon we’re trying to understand), then the mean can sometimes give us a misleading picture. For example, the story is often told that in the mid-1980s, the major at the University of North Carolina with the highest average starting salary was geography, mostly on account of NBA star (and outlier) Michael Jordan."
   ]
  },
  {
   "cell_type": "markdown",
   "metadata": {},
   "source": [
    "## Percentile\n",
    "A generalization of the median is the quantile, which represents the value less than which a certain percentile of the data lies. (The median represents the value less than which 50% of the data lies.) <br>\n",
    "A <span style='background-color: yellow'>*percentile* is a value below which a certain percentage of observation lie</span>. <br>\n",
    "Three different percentile rankings:\n",
    "<img src='https://i.imgur.com/MITvhqb.jpg' width=400>"
   ]
  },
  {
   "cell_type": "code",
   "execution_count": 85,
   "metadata": {},
   "outputs": [
    {
     "data": {
      "text/plain": [
       "13"
      ]
     },
     "execution_count": 85,
     "metadata": {},
     "output_type": "execute_result"
    }
   ],
   "source": [
    "def quantile(x, p):\n",
    "    \"\"\"returns the pth-percentile value in x\"\"\"\n",
    "    p_index = int(p * len(x))\n",
    "    return sorted(x)[p_index]\n",
    "\n",
    "my_array = [9, 3, 1, 8, 3, 6]\n",
    "#quantile(my_array, 0.10) # What value exist at the percentile ranking of 25%? — 1\n",
    "#quantile(my_array, 0.25) # 3\n",
    "#quantile(my_array, 0.75) # 8\n",
    "quantile(my_array, 0.90) # 9"
   ]
  },
  {
   "cell_type": "markdown",
   "metadata": {},
   "source": [
    "<img src='https://i.imgur.com/ehwRscs.jpg' width=500>"
   ]
  },
  {
   "cell_type": "code",
   "execution_count": 67,
   "metadata": {},
   "outputs": [
    {
     "data": {
      "text/plain": [
       "80.0"
      ]
     },
     "execution_count": 67,
     "metadata": {},
     "output_type": "execute_result"
    }
   ],
   "source": [
    "def percentilesRankOf(arr, val):\n",
    "    num_of_vals_below = 0\n",
    "    for arr_index, arr_val in enumerate(arr):\n",
    "        if arr_val == val:\n",
    "            num_of_vals_below = arr_index\n",
    "            break\n",
    "            \n",
    "    return (num_of_vals_below / len(arr)) * 100\n",
    "\n",
    "percentilesRankOf([2, 2, 3, 4, 5, 5, 5, 6, 7, 8,8,8,8,8,9,9,10,11,11,12], 10)"
   ]
  },
  {
   "cell_type": "markdown",
   "metadata": {},
   "source": [
    "## Percentage\n",
    "<img src='https://www.basic-mathematics.com/images/percentage-formula.gif'>"
   ]
  },
  {
   "cell_type": "code",
   "execution_count": 68,
   "metadata": {},
   "outputs": [
    {
     "data": {
      "text/plain": [
       "50.0"
      ]
     },
     "execution_count": 68,
     "metadata": {},
     "output_type": "execute_result"
    }
   ],
   "source": [
    "def percentage(part, whole):\n",
    "    return (part / whole)*100\n",
    "\n",
    "percentage(2, 4)  # 50"
   ]
  },
  {
   "cell_type": "markdown",
   "metadata": {},
   "source": [
    "Less commonly you might want to look at the mode, or most-common value[s]:"
   ]
  },
  {
   "cell_type": "code",
   "execution_count": 69,
   "metadata": {},
   "outputs": [
    {
     "data": {
      "text/plain": [
       "[3, 6]"
      ]
     },
     "execution_count": 69,
     "metadata": {},
     "output_type": "execute_result"
    }
   ],
   "source": [
    "def mode(x):\n",
    "    \"\"\"returns a list, might be more than one mode\"\"\"\n",
    "    counts = Counter(x)\n",
    "    max_count = max(counts.values())\n",
    "    return [x_i for x_i, count in counts.items()\n",
    "            if count == max_count]\n",
    "\n",
    "\n",
    "my_array = [9, 3, 1, 8, 3, 6, 6]\n",
    "mode(my_array) # [3, 6]"
   ]
  },
  {
   "cell_type": "markdown",
   "metadata": {},
   "source": [
    "But most frequently we’ll just use the mean."
   ]
  },
  {
   "cell_type": "markdown",
   "metadata": {},
   "source": [
    "## Dispersion\n",
    "<span style='background-color: yellow'>*Dispersion* refers to measures of how spread out our data is</span>. Typically they’re statistics for which values near zero signify not spread out at all and for which large values (whatever that means) signify very spread out. For instance, a very simple measure is the range, which is just the difference between the largest and smallest elements:"
   ]
  },
  {
   "cell_type": "code",
   "execution_count": 70,
   "metadata": {},
   "outputs": [
    {
     "data": {
      "text/plain": [
       "100"
      ]
     },
     "execution_count": 70,
     "metadata": {},
     "output_type": "execute_result"
    }
   ],
   "source": [
    "# \"range\" already means something in Python, so we'll use a different name\n",
    "def data_range(x):\n",
    "    return max(x) - min(x)\n",
    "\n",
    "data_range(num_friends) # 99"
   ]
  },
  {
   "cell_type": "markdown",
   "metadata": {},
   "source": [
    "The range is zero precisely when the max and min are equal, which can only happen if the\n",
    "elements of x are all the same, which means the data is as undispersed as possible.\n",
    "Conversely, if the range is large, then the max is much larger than the min and the data is more spread out.\n",
    "<br>\n",
    "<br>\n",
    "Like the median, the range doesn’t really depend on the whole data set. A data set whose\n",
    "points are all either 0 or 100 has the same range as a data set whose values are 0, 100, and lots of 50s. But it seems like the first data set “should” be more spread out.\n",
    "\n",
    "### Variance and Standard deviation\n",
    "<img src='http://statisticslectures.com/images/samplevarstd.gif'>\n",
    "\n",
    "where x — element, ¯x¯ — mean, n — number of elements.\n",
    "<br>\n",
    "<br>\n",
    "links: <a href='https://www.statisticshowto.datasciencecentral.com/sample-variance/'>statisticshowto.datasciencecentral.com</a>"
   ]
  },
  {
   "cell_type": "code",
   "execution_count": 71,
   "metadata": {},
   "outputs": [
    {
     "data": {
      "text/plain": [
       "6219.9"
      ]
     },
     "execution_count": 71,
     "metadata": {},
     "output_type": "execute_result"
    }
   ],
   "source": [
    "def sum_of_squares(arr):\n",
    "    sum_of_squares = arr[0]**2\n",
    "    for i in range(0, len(arr)-1):\n",
    "        sum_of_squares += arr[i+1]**2\n",
    "    return sum_of_squares\n",
    "        \n",
    "def de_mean(x):\n",
    "    \"\"\"translate x by subtracting its mean (so the result has mean 0)\"\"\"\n",
    "    x_bar = mean(x)\n",
    "    return [x_i - x_bar for x_i in x]\n",
    "\n",
    "def variance(x):\n",
    "    \"\"\"assumes x has at least two elements\"\"\"\n",
    "    n = len(x)\n",
    "    deviations = de_mean(x)\n",
    "    return sum_of_squares(deviations) / (n-1)\n",
    "\n",
    "variance([3,21,98,203,17,9]) # 81.54"
   ]
  },
  {
   "cell_type": "markdown",
   "metadata": {},
   "source": [
    "<span style='font-size: 18px; font-color: grey'>NOTE</span>: This looks like it is almost the average squared deviation from the mean, except that we’re dividing by n-1 instead of n. In fact, when we’re dealing with a sample from a larger population, x_bar is only an estimate of the actual mean, which means that on average (x_i - x_bar) ** 2 is an underestimate of x_i’s squared deviation from the mean, which is why we divide by n-1 instead of n. See <a href='https://en.wikipedia.org/wiki/Unbiased_estimation_of_standard_deviation'>Wikipedia</a>.\n",
    "<br>\n",
    "<br>\n",
    "Now, whatever units our data is in (e.g., “friends”), all of our measures of central tendency are in that same unit. The range will similarly be in that same unit. The variance, on the other hand, has units that are the square of the original units (e.g., “friends squared”). As it can be hard to make sense of these, we often look instead at the standard deviation:"
   ]
  },
  {
   "cell_type": "code",
   "execution_count": 72,
   "metadata": {},
   "outputs": [
    {
     "data": {
      "text/plain": [
       "78.86634263106157"
      ]
     },
     "execution_count": 72,
     "metadata": {},
     "output_type": "execute_result"
    }
   ],
   "source": [
    "import math\n",
    "\n",
    "def standard_deviation(x):\n",
    "    return math.sqrt(variance(x))\n",
    "\n",
    "standard_deviation([3,21,98,203,17,9]) # 9.03"
   ]
  },
  {
   "cell_type": "markdown",
   "metadata": {},
   "source": [
    "<span style='background-color: yellow'>The *range*, the *variance* and the *standard deviation* have the same outlier problem that we saw earlier for the *mean*</span>. Using the same example, if our friendliest user had instead 200 friends, the standard deviation would be 14.89, more than 60% higher!\n",
    "<br>\n",
    "<br>\n",
    "A more robust alternative computes the difference between the 75th percentile value and the 25th percentile value, which is quite plainly unaffected by a small number of outliers:"
   ]
  },
  {
   "cell_type": "code",
   "execution_count": 73,
   "metadata": {},
   "outputs": [
    {
     "data": {
      "text/plain": [
       "14"
      ]
     },
     "execution_count": 73,
     "metadata": {},
     "output_type": "execute_result"
    }
   ],
   "source": [
    "def quantile(x, p):\n",
    "    p_index = int(p * len(x))\n",
    "    return sorted(x)[p_index]\n",
    "\n",
    "def interquartile_range(x):\n",
    "    return quantile(x, 0.75) - quantile(x, 0.25)\n",
    "\n",
    "interquartile_range(num_friends) # 6"
   ]
  },
  {
   "cell_type": "markdown",
   "metadata": {},
   "source": [
    "## Correlation \n",
    "a theory that the amount of time people spend on the site is related to the number of friends they have on the site.\n",
    "<br>\n",
    "<br>\n",
    "We’ll first look at covariance, the paired analogue of variance. Whereas variance measures how a single variable deviates from its mean, covariance measures how two variables vary in tandem from their means:"
   ]
  },
  {
   "cell_type": "code",
   "execution_count": 88,
   "metadata": {},
   "outputs": [
    {
     "data": {
      "text/plain": [
       "22.425435139573064"
      ]
     },
     "execution_count": 88,
     "metadata": {},
     "output_type": "execute_result"
    }
   ],
   "source": [
    "num_friends = [100,49,41,40,25,21,21,19,19,18,18,16,15,15,15,15,14,14,13,13,13,13,12,12,11,10,10,10,10,10,10,10,10,10,10,10,10,10,10,10,9,9,9,9,9,9,9,9,9,9,9,9,9,9,9,9,9,9,8,8,8,8,8,8,8,8,8,8,8,8,8,7,7,7,7,7,7,7,7,7,7,7,7,7,7,7,6,6,6,6,6,6,6,6,6,6,6,6,6,6,6,6,6,6,6,6,6,6,5,5,5,5,5,5,5,5,5,5,5,5,5,5,5,5,5,4,4,4,4,4,4,4,4,4,4,4,4,4,4,4,4,4,4,4,4,3,3,3,3,3,3,3,3,3,3,3,3,3,3,3,3,3,3,3,3,2,2,2,2,2,2,2,2,2,2,2,2,2,2,2,2,2,1,1,1,1,1,1,1,1,1,1,1,1,1,1,1,1,1,1,1,1,1,1]\n",
    "daily_minutes = [1,68.77,51.25,52.08,38.36,44.54,57.13,51.4,41.42,31.22,34.76,54.01,38.79,47.59,49.1,27.66,41.03,36.73,48.65,28.12,46.62,35.57,32.98,35,26.07,23.77,39.73,40.57,31.65,31.21,36.32,20.45,21.93,26.02,27.34,23.49,46.94,30.5,33.8,24.23,21.4,27.94,32.24,40.57,25.07,19.42,22.39,18.42,46.96,23.72,26.41,26.97,36.76,40.32,35.02,29.47,30.2,31,38.11,38.18,36.31,21.03,30.86,36.07,28.66,29.08,37.28,15.28,24.17,22.31,30.17,25.53,19.85,35.37,44.6,17.23,13.47,26.33,35.02,32.09,24.81,19.33,28.77,24.26,31.98,25.73,24.86,16.28,34.51,15.23,39.72,40.8,26.06,35.76,34.76,16.13,44.04,18.03,19.65,32.62,35.59,39.43,14.18,35.24,40.13,41.82,35.45,36.07,43.67,24.61,20.9,21.9,18.79,27.61,27.21,26.61,29.77,20.59,27.53,13.82,33.2,25,33.1,36.65,18.63,14.87,22.2,36.81,25.53,24.62,26.25,18.21,28.08,19.42,29.79,32.8,35.99,28.32,27.79,35.88,29.06,36.28,14.1,36.63,37.49,26.9,18.58,38.48,24.48,18.95,33.55,14.24,29.04,32.51,25.63,22.22,19,32.73,15.16,13.9,27.2,32.01,29.27,33,13.74,20.42,27.32,18.23,35.35,28.48,9.08,24.62,20.12,35.26,19.92,31.02,16.49,12.16,30.7,31.22,34.65,13.13,27.51,33.2,31.57,14.1,33.42,17.44,10.12,24.42,9.82,23.39,30.93,15.03,21.67,31.09,33.29,22.61,26.89,23.48,8.38,27.81,32.35,23.84]\n",
    "\n",
    "def covariance(x, y):\n",
    "    n = len(x)\n",
    "    return dot(de_mean(x), de_mean(y)) / (n - 1)\n",
    "\n",
    "covariance(num_friends, daily_minutes) # 22.43"
   ]
  },
  {
   "cell_type": "markdown",
   "metadata": {},
   "source": [
    "Recall that dot sums up the products of corresponding pairs of elements. When corresponding elements of x and y are either both above their means or both below their means, a positive number enters the sum. When one is above its mean and the other below,\n",
    "a negative number enters the sum. Accordingly, a <span style='background-color: yellow'>“large” positive covariance</span> means that <span style='background-color: yellow'>x</span> tends to be <span style='background-color: yellow'>large</span> when <span style='background-color: yellow'>y</span> is <span style='background-color: yellow'>large</span> and <span style='background-color: yellow'>small</span> when <span style='background-color: yellow'>y is small</span>. A <span style='background-color: yellow'>“large” negative covariance</span> means the opposite — that <span style='background-color: yellow'>x</span> tends to be <span style='background-color: yellow'>small</span> when <span style='background-color: yellow'>y is large</span> and vice versa. A covariance close to zero means that no such relationship exists."
   ]
  },
  {
   "cell_type": "code",
   "execution_count": 93,
   "metadata": {},
   "outputs": [
    {
     "data": {
      "text/plain": [
       "32"
      ]
     },
     "execution_count": 93,
     "metadata": {},
     "output_type": "execute_result"
    }
   ],
   "source": [
    "a = [2,3,4,100]\n",
    "b = [1,2,6]\n",
    "dot(a,b) # 2*1 + 3*2 + 4*6 = 32"
   ]
  },
  {
   "cell_type": "markdown",
   "metadata": {},
   "source": [
    "This number can be hard to interpret:"
   ]
  },
  {
   "cell_type": "markdown",
   "metadata": {},
   "source": [
    "* Its units are the product of the inputs’ units (e.g., friend-minutes-per-day), which can be hard to make sense of. (What’s a “friend-minute-per-day”?)\n",
    "\n",
    "* If each user had twice as many friends (but the same number of minutes), the covariance would be twice as large. But in a sense the variables would be just as interrelated. Said differently, it’s hard to say what counts as a “large” covariance.\n",
    "<br>\n",
    "<br>\n",
    "For this reason, it’s more common to look at the correlation, which divides out the standard deviations of both variables:"
   ]
  },
  {
   "cell_type": "code",
   "execution_count": 95,
   "metadata": {},
   "outputs": [
    {
     "data": {
      "text/plain": [
       "0.24736957366478218"
      ]
     },
     "execution_count": 95,
     "metadata": {},
     "output_type": "execute_result"
    }
   ],
   "source": [
    "def correlation(x, y):\n",
    "    stdev_x = standard_deviation(x)\n",
    "    stdev_y = standard_deviation(y)\n",
    "    if stdev_x > 0 and stdev_y > 0:\n",
    "        return covariance(x, y) / stdev_x / stdev_y\n",
    "    else:\n",
    "        return 0 # if no variation, correlation is zero\n",
    "\n",
    "correlation(num_friends, daily_minutes) # 0.25"
   ]
  },
  {
   "cell_type": "markdown",
   "metadata": {},
   "source": [
    "The correlation is unitless and always lies between -1 (perfect anti-correlation) and 1 (perfect correlation). A number like 0.25 represents a relatively weak positive correlation.\n",
    "<br>\n",
    "<br>\n",
    "However, one thing we neglected to do was examine our data:"
   ]
  },
  {
   "cell_type": "code",
   "execution_count": 122,
   "metadata": {},
   "outputs": [
    {
     "data": {
      "image/png": "[encoded data removed]",
      "text/plain": [
       "<Figure size 720x720 with 1 Axes>"
      ]
     },
     "metadata": {},
     "output_type": "display_data"
    }
   ],
   "source": [
    "plt.figure(figsize=(10,10))\n",
    "plt.scatter(num_friends, daily_minutes)\n",
    "#plt.axis([0, 105, 0, 100])\n",
    "plt.title('Correlation with an Outlier', fontsize=20)\n",
    "plt.xlabel('# of friends', fontsize=18)\n",
    "plt.ylabel('minutes per day', fontsize=18)\n",
    "plt.show()"
   ]
  },
  {
   "cell_type": "markdown",
   "metadata": {},
   "source": [
    "The person with 100 friends (who spends only one minute per day on the site) is a huge outlier, and correlation can be very sensitive to outliers. What happens if we ignore him?"
   ]
  },
  {
   "cell_type": "code",
   "execution_count": 116,
   "metadata": {},
   "outputs": [
    {
     "data": {
      "text/plain": [
       "0.5736792115665573"
      ]
     },
     "execution_count": 116,
     "metadata": {},
     "output_type": "execute_result"
    }
   ],
   "source": [
    "outlier = num_friends.index(100) # index of outlier\n",
    "\n",
    "num_friends_good = [x\n",
    "                    for i, x in enumerate(num_friends)\n",
    "                    if i != outlier]\n",
    "\n",
    "daily_minutes_good = [x\n",
    "                      for i, x in enumerate(daily_minutes)\n",
    "                      if i != outlier]\n",
    "\n",
    "correlation(num_friends_good, daily_minutes_good) # 0.57"
   ]
  },
  {
   "cell_type": "markdown",
   "metadata": {},
   "source": [
    "Without the outlier, there is a much stronger correlation:"
   ]
  },
  {
   "cell_type": "code",
   "execution_count": 123,
   "metadata": {},
   "outputs": [
    {
     "data": {
      "image/png": "[encoded data removed]",
      "text/plain": [
       "<Figure size 720x720 with 1 Axes>"
      ]
     },
     "metadata": {},
     "output_type": "display_data"
    }
   ],
   "source": [
    "plt.figure(figsize=(10,10))\n",
    "plt.scatter(num_friends_good, daily_minutes_good)\n",
    "#plt.axis([0, 105, 0, 100])\n",
    "plt.title('Correlation with an Outlier', fontsize=20)\n",
    "plt.xlabel('# of friends', fontsize=18)\n",
    "plt.ylabel('minutes per day', fontsize=18)\n",
    "plt.show()"
   ]
  },
  {
   "cell_type": "markdown",
   "metadata": {},
   "source": [
    "You investigate further and discover that the outlier was actually an internal test account that no one ever bothered to remove. So you feel pretty justified in excluding it."
   ]
  },
  {
   "cell_type": "markdown",
   "metadata": {},
   "source": [
    "### Simpson’s Paradox\n",
    "One not uncommon surprise when analyzing data is Simpson’s Paradox, in which correlations can be misleading when *confounding* variables are ignored.\n",
    "<br>\n",
    "<br>\n",
    "For example, imagine that you can identify all of your members as either East Coast data scientists or West Coast data scientists. You decide to examine which coast’s data scientists are friendlier:\n",
    "<img src='https://i.imgur.com/Yi5lKxD.jpg'> <br>\n",
    "It certainly looks like the West Coast data scientists are friendlier than the East Coast data scientists. Your coworkers advance all sorts of theories as to why this might be: maybe it’s\n",
    "the sun, or the coffee, or the organic produce, or the laid-back Pacific vibe?\n",
    "<br>\n",
    "<br>\n",
    "When playing with the data you discover something very strange. If you only look at people with PhDs, the East Coast data scientists have more friends on average. And if you only look at people without PhDs, the East Coast data scientists also have more friends on average!\n",
    "<img src='https://i.imgur.com/dLVflwP.jpg'>\n",
    "\n",
    "Once you account for the users’ degrees, the correlation goes in the opposite direction! Bucketing the data as East Coast/West Coast disguised the fact that the East Coast data scientists skew much more heavily toward PhD types.\n",
    "<br>\n",
    "<br>\n",
    "This phenomenon crops up in the real world with some regularity. The key issue is that correlation is measuring the relationship between your two variables all else being equal. If your data classes are assigned at random, as they might be in a well-designed\n",
    "experiment, “all else being equal” might not be a terrible assumption. But when there is a deeper pattern to class assignments, “all else being equal” can be an awful assumption.\n",
    "<br>\n",
    "<br>\n",
    "The only real way to avoid this is by *knowing your data* and by doing what you can to make sure you’ve checked for possible confounding factors. Obviously, this is not always possible. If you didn’t have the educational attainment of these 200 data scientists, you might simply conclude that there was something inherently more sociable about the West Coast."
   ]
  },
  {
   "cell_type": "markdown",
   "metadata": {},
   "source": [
    "### Some Other Correlational Caveats\n",
    "A correlation of zero indicates that there is no linear relationship between the two variables. However, there may be other sorts of relationships. For example, if:"
   ]
  },
  {
   "cell_type": "code",
   "execution_count": null,
   "metadata": {},
   "outputs": [],
   "source": [
    "x = [-2, -1, 0, 1, 2]\n",
    "y = [ 2, 1, 0, 1, 2]"
   ]
  },
  {
   "cell_type": "markdown",
   "metadata": {},
   "source": [
    "then x and y have zero correlation. But they certainly have a relationship — each element of y equals the absolute value of the corresponding element of x. What they don’t have is a relationship in which knowing how x_i compares to mean(x) gives us information about how y_i compares to mean(y). That is the sort of relationship that correlation looks for.\n",
    "<br>\n",
    "<br>\n",
    "In addition, correlation tells you nothing about how large the relationship is. The variables:"
   ]
  },
  {
   "cell_type": "code",
   "execution_count": 124,
   "metadata": {},
   "outputs": [],
   "source": [
    "x = [-2, 1, 0, 1, 2]\n",
    "y = [99.98, 99.99, 100, 100.01, 100.02]"
   ]
  },
  {
   "cell_type": "markdown",
   "metadata": {},
   "source": [
    "are perfectly correlated, but (depending on what you’re measuring) it’s quite possible that this relationship isn’t all that interesting."
   ]
  },
  {
   "cell_type": "markdown",
   "metadata": {},
   "source": [
    "### Correlation and Causation\n",
    "You have probably heard at some point that “correlation is not causation,” most likely by someone looking at data that posed a challenge to parts of his worldview that he was reluctant to question. Nonetheless, this is an important point — if x and y are strongly correlated, that might mean that x causes y, that y causes x, that each causes the other, that some third factor causes both, or it might mean nothing.\n",
    "<br>\n",
    "<br>\n",
    "Consider the relationship between num_friends and daily_minutes. It’s possible that having more friends on the site causes DataSciencester users to spend more time on the site. This might be the case if each friend posts a certain amount of content each day,\n",
    "which means that the more friends you have, the more time it takes to stay current with their updates.\n",
    "<br>\n",
    "<br>\n",
    "However, it’s also possible that the more time you spend arguing in the DataSciencester forums, the more you encounter and befriend like-minded people. That is, spending more time on the site causes users to have more friends. \n",
    "<br>\n",
    "<br>\n",
    "A third possibility is that the users who are most passionate about data science spend more time on the site (because they find it more interesting) and more actively collect data science friends (because they don’t want to associate with anyone else).\n",
    "<br>\n",
    "<br>\n",
    "One way to feel more confident about causality is by conducting randomized trials. If you can randomly split your users into two groups with similar demographics and give one of the groups a slightly different experience, then you can often feel pretty good that the different experiences are causing the different outcomes.\n",
    "<br>\n",
    "<br>\n",
    "For instance, if you don’t mind being angrily accused of experimenting on your users, you could randomly choose a subset of your users and show them content from only a fraction of their friends. If this subset subsequently spent less time on the site, this would give you some confidence that having more friends causes more time on the site."
   ]
  },
  {
   "cell_type": "markdown",
   "metadata": {},
   "source": [
    "# Chapter 6. Probability\n",
    "For our purposes you should think of probability as a way of quantifying the uncertainty associated with events chosen from a some universe of events. Rather than getting technical about what these terms mean, think of rolling a die. The universe consists of all possible outcomes. And any subset of these outcomes is an event; for example, “the die rolls a one” or “the die rolls an even number.”\n",
    "<br>\n",
    "<br>\n",
    "Notationally, we write *<span style='font-size: 18px'>P(E)</span>* to mean “the probability of the event E.”\n",
    "\n",
    "## Dependence and Independence\n",
    "E and F are *dependent* if knowing something about whether E happens gives us information about whether F happens (and vice versa). Otherwise they are *independent*.\n",
    "<br>\n",
    "<br>\n",
    "For instance, if we flip a fair coin twice, knowing whether the first flip is Heads gives us no information about whether the second flip is Heads. These events are independent. On the other hand, knowing whether the first flip is Heads certainly gives us information about whether both flips are Tails. (If the first flip is Heads, then definitely it’s not the case that both flips are Tails.) These two events are dependent.\n",
    "<br>\n",
    "<br>\n",
    "E and F are independent if the probability that they both happen is the product of the probabilities that each one happens: <span style='font-size:35px;font-style:italic'>P(E, F) = P(E)P(F)</span>\n",
    "<br>\n",
    "<br>\n",
    "In the example above, the probability of “first flip Heads” is 1/2, and the probability of “both flips Tails” is 1/4, but the probability of “first flip Heads and both flips Tails” is 0.\n",
    "\n",
    "## Conditional Probability\n",
    "<p style='display:none'>E and F are independent: \n",
    "<br>\n",
    "<br>\n",
    "<span style='font-size:35px;font-style:italic'>P(E, F) = P(E)P(F)</span> \n",
    "<br>\n",
    "<br>\n",
    "<br>\n",
    "If they are not necessarily independent (and if the probability of F is not zero), then we define the probability of E “conditional on F” as: \n",
    "<br>\n",
    "<br>\n",
    "<span style='font-size:35px;font-style:italic'>P(E | F) = P(E, F) / P(F)</span> \n",
    "<br>\n",
    "<br>\n",
    "You should think of this as the probability that E happens, given that we know that F happens.\n",
    "<br>\n",
    "<br>\n",
    "We often rewrite this as:\n",
    "<br>\n",
    "<br>\n",
    "<span style='font-size:35px;font-style:italic'>P(E, F) = P(E | F)P(F)</span>\n",
    "<br>\n",
    "<br>\n",
    "<br>\n",
    "When E and F are independent, you can check that this gives:\n",
    "<br>\n",
    "<br>\n",
    "<span style='font-size:35px;font-style:italic'>P(E | F) = P(E)</span>\n",
    "<br>\n",
    "<br>\n",
    "which is the mathematical way of expressing that knowing F occurred gives us no additional information about whether E occurred.\n",
    "</p>\n",
    "\n",
    "<img src='https://i.imgur.com/cV0I4VO.jpg'>\n",
    "\n",
    "<img src='https://i.imgur.com/c0Pbp6C.jpg'>\n",
    "<br>\n",
    "All outcomes for 2 events:\n",
    "* GB\n",
    "* GG\n",
    "* BG\n",
    "* BB <br>\n",
    "both are girls: 1/4. <br><br>\n",
    "All outcome for 1 event:\n",
    "* B\n",
    "* G <br>\n",
    "the older is a girl: 1/2 <br><br>\n",
    "both are girls knowing that the older is a girl: (1/4) / (1/2) = 1\\*2 / 4\\*1 = 1/2\n",
    "\n",
    "\n",
    "<br>\n",
    "\n",
    "<img src='https://i.imgur.com/gC62nVT.jpg'>\n",
    "All outcomes for 2 events:\n",
    "* GB\n",
    "* GG\n",
    "* BG\n",
    "* BB <br>\n",
    "both are girls: 1/4. <br>\n",
    "at least one of 2 is a girl: 3/4 <br>\n",
    "both are girls knowing that at least one of 2 is a girl: (1/4) / (3/4) = 1\\*4 / 4\\*3 = 1/3\n"
   ]
  },
  {
   "cell_type": "code",
   "execution_count": 127,
   "metadata": {},
   "outputs": [
    {
     "name": "stdout",
     "output_type": "stream",
     "text": [
      "P(both | older): 0.5007089325501317\n",
      "P(both | either):  0.3311897106109325\n"
     ]
    }
   ],
   "source": [
    "import random\n",
    "\n",
    "def random_kid():\n",
    "    return random.choice([\"boy\", \"girl\"])\n",
    "\n",
    "both_girls = 0\n",
    "older_girl = 0\n",
    "either_girl = 0\n",
    "\n",
    "random.seed(0)\n",
    "for _ in range(10000):\n",
    "    younger = random_kid()\n",
    "    older = random_kid()\n",
    "    if older == \"girl\":\n",
    "        older_girl += 1\n",
    "    if older == \"girl\" and younger == \"girl\":\n",
    "        both_girls += 1\n",
    "    if older == \"girl\" or younger == \"girl\":\n",
    "        either_girl += 1\n",
    "\n",
    "print(\"P(both | older):\", both_girls / older_girl) # 0.514 ~ 1/2\n",
    "print(\"P(both | either): \", both_girls / either_girl) # 0.342 ~ 1/3"
   ]
  },
  {
   "cell_type": "markdown",
   "metadata": {},
   "source": [
    "## Bayes’s Theorem\n",
    "<img src='https://i.imgur.com/5LuMv1s.jpg'>\n",
    "<img src='https://i.imgur.com/c7jiGRt.jpg'>"
   ]
  },
  {
   "cell_type": "markdown",
   "metadata": {},
   "source": [
    "## Random Variables\n",
    "<img src='https://i.imgur.com/HouK71d.jpg'>"
   ]
  },
  {
   "cell_type": "markdown",
   "metadata": {},
   "source": [
    "## Continuous Distributions"
   ]
  },
  {
   "cell_type": "code",
   "execution_count": null,
   "metadata": {},
   "outputs": [],
   "source": []
  },
  {
   "cell_type": "code",
   "execution_count": null,
   "metadata": {},
   "outputs": [],
   "source": []
  },
  {
   "cell_type": "code",
   "execution_count": null,
   "metadata": {},
   "outputs": [],
   "source": []
  },
  {
   "cell_type": "code",
   "execution_count": null,
   "metadata": {},
   "outputs": [],
   "source": []
  },
  {
   "cell_type": "code",
   "execution_count": null,
   "metadata": {},
   "outputs": [],
   "source": []
  }
 ],
 "metadata": {
  "kernelspec": {
   "display_name": "Python 3",
   "language": "python",
   "name": "python3"
  },
  "language_info": {
   "codemirror_mode": {
    "name": "ipython",
    "version": 3
   },
   "file_extension": ".py",
   "mimetype": "text/x-python",
   "name": "python",
   "nbconvert_exporter": "python",
   "pygments_lexer": "ipython3",
   "version": "3.6.5"
  },
  "toc": {
   "base_numbering": 1,
   "nav_menu": {},
   "number_sections": true,
   "sideBar": true,
   "skip_h1_title": false,
   "title_cell": "Table of Contents",
   "title_sidebar": "Contents",
   "toc_cell": true,
   "toc_position": {
    "height": "calc(100% - 180px)",
    "left": "10px",
    "top": "150px",
    "width": "165px"
   },
   "toc_section_display": true,
   "toc_window_display": true
  }
 },
 "nbformat": 4,
 "nbformat_minor": 2
}
