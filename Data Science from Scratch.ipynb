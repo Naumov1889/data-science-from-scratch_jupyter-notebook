{
 "cells": [
  {
   "cell_type": "markdown",
   "metadata": {
    "toc": true
   },
   "source": [
    "<h1>Table of Contents<span class=\"tocSkip\"></span></h1>\n",
    "<div class=\"toc\"><ul class=\"toc-item\"><li><span><a href=\"#Chapter-1.-Introduction\" data-toc-modified-id=\"Chapter-1.-Introduction-1\"><span class=\"toc-item-num\">1&nbsp;&nbsp;</span>Chapter 1. Introduction</a></span><ul class=\"toc-item\"><li><span><a href=\"#Finding-Key-Connectors\" data-toc-modified-id=\"Finding-Key-Connectors-1.1\"><span class=\"toc-item-num\">1.1&nbsp;&nbsp;</span>Finding Key Connectors</a></span><ul class=\"toc-item\"><li><span><a href=\"#What-we-have\" data-toc-modified-id=\"What-we-have-1.1.1\"><span class=\"toc-item-num\">1.1.1&nbsp;&nbsp;</span>What we have</a></span></li><li><span><a href=\"#What-can-we-do\" data-toc-modified-id=\"What-can-we-do-1.1.2\"><span class=\"toc-item-num\">1.1.2&nbsp;&nbsp;</span>What can we do</a></span><ul class=\"toc-item\"><li><span><a href=\"#What’s-the-average-number-of-connections?\" data-toc-modified-id=\"What’s-the-average-number-of-connections?-1.1.2.1\"><span class=\"toc-item-num\">1.1.2.1&nbsp;&nbsp;</span>What’s the average number of connections?</a></span></li><li><span><a href=\"#Sort-by-#-of-friends\" data-toc-modified-id=\"Sort-by-#-of-friends-1.1.2.2\"><span class=\"toc-item-num\">1.1.2.2&nbsp;&nbsp;</span>Sort by # of friends</a></span></li></ul></li></ul></li><li><span><a href=\"#Data-Scientists-You-May-Know\" data-toc-modified-id=\"Data-Scientists-You-May-Know-1.2\"><span class=\"toc-item-num\">1.2&nbsp;&nbsp;</span>Data Scientists You May Know</a></span><ul class=\"toc-item\"><li><span><a href=\"#Interests\" data-toc-modified-id=\"Interests-1.2.1\"><span class=\"toc-item-num\">1.2.1&nbsp;&nbsp;</span>Interests</a></span></li></ul></li><li><span><a href=\"#Salaries-and-Experience\" data-toc-modified-id=\"Salaries-and-Experience-1.3\"><span class=\"toc-item-num\">1.3&nbsp;&nbsp;</span>Salaries and Experience</a></span><ul class=\"toc-item\"><li><span><a href=\"#Average-salary-for-each-tenure:\" data-toc-modified-id=\"Average-salary-for-each-tenure:-1.3.1\"><span class=\"toc-item-num\">1.3.1&nbsp;&nbsp;</span>Average salary for each tenure:</a></span></li></ul></li><li><span><a href=\"#Paid-Accounts\" data-toc-modified-id=\"Paid-Accounts-1.4\"><span class=\"toc-item-num\">1.4&nbsp;&nbsp;</span>Paid Accounts</a></span></li><li><span><a href=\"#Topics-of-Interest\" data-toc-modified-id=\"Topics-of-Interest-1.5\"><span class=\"toc-item-num\">1.5&nbsp;&nbsp;</span>Topics of Interest</a></span></li></ul></li><li><span><a href=\"#Chapter-3.-Visualizing-Data\" data-toc-modified-id=\"Chapter-3.-Visualizing-Data-2\"><span class=\"toc-item-num\">2&nbsp;&nbsp;</span>Chapter 3. Visualizing Data</a></span><ul class=\"toc-item\"><li><span><a href=\"#matplotlib\" data-toc-modified-id=\"matplotlib-2.1\"><span class=\"toc-item-num\">2.1&nbsp;&nbsp;</span>matplotlib</a></span></li><li><span><a href=\"#Bar-Charts\" data-toc-modified-id=\"Bar-Charts-2.2\"><span class=\"toc-item-num\">2.2&nbsp;&nbsp;</span>Bar Charts</a></span><ul class=\"toc-item\"><li><span><a href=\"#Quantity-varies\" data-toc-modified-id=\"Quantity-varies-2.2.1\"><span class=\"toc-item-num\">2.2.1&nbsp;&nbsp;</span>Quantity varies</a></span></li><li><span><a href=\"#How-distributed\" data-toc-modified-id=\"How-distributed-2.2.2\"><span class=\"toc-item-num\">2.2.2&nbsp;&nbsp;</span>How distributed</a></span></li><li><span><a href=\"#Misleading\" data-toc-modified-id=\"Misleading-2.2.3\"><span class=\"toc-item-num\">2.2.3&nbsp;&nbsp;</span>Misleading</a></span></li></ul></li><li><span><a href=\"#Line-Charts\" data-toc-modified-id=\"Line-Charts-2.3\"><span class=\"toc-item-num\">2.3&nbsp;&nbsp;</span>Line Charts</a></span></li><li><span><a href=\"#Scatterplots\" data-toc-modified-id=\"Scatterplots-2.4\"><span class=\"toc-item-num\">2.4&nbsp;&nbsp;</span>Scatterplots</a></span></li></ul></li><li><span><a href=\"#Chapter-4.-Linear-Algebra\" data-toc-modified-id=\"Chapter-4.-Linear-Algebra-3\"><span class=\"toc-item-num\">3&nbsp;&nbsp;</span>Chapter 4. Linear Algebra</a></span><ul class=\"toc-item\"><li><span><a href=\"#Vectors\" data-toc-modified-id=\"Vectors-3.1\"><span class=\"toc-item-num\">3.1&nbsp;&nbsp;</span>Vectors</a></span><ul class=\"toc-item\"><li><span><a href=\"#Addition-of-two-vectors\" data-toc-modified-id=\"Addition-of-two-vectors-3.1.1\"><span class=\"toc-item-num\">3.1.1&nbsp;&nbsp;</span>Addition of two vectors</a></span></li><li><span><a href=\"#Subtraction-of-two-vectors\" data-toc-modified-id=\"Subtraction-of-two-vectors-3.1.2\"><span class=\"toc-item-num\">3.1.2&nbsp;&nbsp;</span>Subtraction of two vectors</a></span></li><li><span><a href=\"#Sum-a-list-of-vectors\" data-toc-modified-id=\"Sum-a-list-of-vectors-3.1.3\"><span class=\"toc-item-num\">3.1.3&nbsp;&nbsp;</span>Sum a list of vectors</a></span></li><li><span><a href=\"#Multiply-a-vector-by-a-scalar,\" data-toc-modified-id=\"Multiply-a-vector-by-a-scalar,-3.1.4\"><span class=\"toc-item-num\">3.1.4&nbsp;&nbsp;</span>Multiply a vector by a scalar,</a></span></li><li><span><a href=\"#Componentwise-means-of-a-list\" data-toc-modified-id=\"Componentwise-means-of-a-list-3.1.5\"><span class=\"toc-item-num\">3.1.5&nbsp;&nbsp;</span>Componentwise means of a list</a></span></li><li><span><a href=\"#Dot-product\" data-toc-modified-id=\"Dot-product-3.1.6\"><span class=\"toc-item-num\">3.1.6&nbsp;&nbsp;</span>Dot product</a></span></li><li><span><a href=\"#Sum-of-squares\" data-toc-modified-id=\"Sum-of-squares-3.1.7\"><span class=\"toc-item-num\">3.1.7&nbsp;&nbsp;</span>Sum of squares</a></span></li><li><span><a href=\"#Magnitude\" data-toc-modified-id=\"Magnitude-3.1.8\"><span class=\"toc-item-num\">3.1.8&nbsp;&nbsp;</span>Magnitude</a></span></li><li><span><a href=\"#Distance-between-two-vectors\" data-toc-modified-id=\"Distance-between-two-vectors-3.1.9\"><span class=\"toc-item-num\">3.1.9&nbsp;&nbsp;</span>Distance between two vectors</a></span></li></ul></li><li><span><a href=\"#Matrices\" data-toc-modified-id=\"Matrices-3.2\"><span class=\"toc-item-num\">3.2&nbsp;&nbsp;</span>Matrices</a></span></li></ul></li></ul></div>"
   ]
  },
  {
   "cell_type": "code",
   "execution_count": null,
   "metadata": {},
   "outputs": [],
   "source": []
  },
  {
   "cell_type": "markdown",
   "metadata": {},
   "source": [
    "# Chapter 1. Introduction\n",
    "## Finding Key Connectors\n",
    "To identify who the “key connectors” are among data scientists.\n",
    "### What we have\n",
    "list of users, each represented by a dict that contains for each user his or her id (which is a number) and name (which, in one of the great cosmic coincidences, rhymes with the user’s id):"
   ]
  },
  {
   "cell_type": "code",
   "execution_count": 1,
   "metadata": {},
   "outputs": [
    {
     "data": {
      "text/plain": [
       "[{'id': 0, 'name': 'Hero'},\n",
       " {'id': 1, 'name': 'Dunn'},\n",
       " {'id': 2, 'name': 'Sue'},\n",
       " {'id': 3, 'name': 'Chi'},\n",
       " {'id': 4, 'name': 'Thor'},\n",
       " {'id': 5, 'name': 'Clive'},\n",
       " {'id': 6, 'name': 'Hicks'},\n",
       " {'id': 7, 'name': 'Devin'},\n",
       " {'id': 8, 'name': 'Kate'},\n",
       " {'id': 9, 'name': 'Klein'}]"
      ]
     },
     "execution_count": 1,
     "metadata": {},
     "output_type": "execute_result"
    }
   ],
   "source": [
    "users = [\n",
    "    { \"id\": 0, \"name\": \"Hero\" },\n",
    "    { \"id\": 1, \"name\": \"Dunn\" },\n",
    "    { \"id\": 2, \"name\": \"Sue\" },\n",
    "    { \"id\": 3, \"name\": \"Chi\" },\n",
    "    { \"id\": 4, \"name\": \"Thor\" },\n",
    "    { \"id\": 5, \"name\": \"Clive\" },\n",
    "    { \"id\": 6, \"name\": \"Hicks\" },\n",
    "    { \"id\": 7, \"name\": \"Devin\" },\n",
    "    { \"id\": 8, \"name\": \"Kate\" },\n",
    "    { \"id\": 9, \"name\": \"Klein\" }\n",
    "]\n",
    "users"
   ]
  },
  {
   "cell_type": "markdown",
   "metadata": {},
   "source": [
    "<br>\n",
    "“friendship” data, represented as a list of pairs of IDs. For example, the tuple (0, 1) indicates that the data scientist with id 0 (Hero) and the data scientist with id 1 (Dunn) are friends.\n",
    "<br>\n",
    "Illustration of the network:\n",
    "<img src='https://i.imgur.com/sCQIiIz.jpg'>"
   ]
  },
  {
   "cell_type": "code",
   "execution_count": 2,
   "metadata": {},
   "outputs": [
    {
     "data": {
      "text/plain": [
       "[(0, 1),\n",
       " (0, 2),\n",
       " (1, 2),\n",
       " (1, 3),\n",
       " (2, 3),\n",
       " (3, 4),\n",
       " (4, 5),\n",
       " (5, 6),\n",
       " (5, 7),\n",
       " (6, 8),\n",
       " (7, 8),\n",
       " (8, 9)]"
      ]
     },
     "execution_count": 2,
     "metadata": {},
     "output_type": "execute_result"
    }
   ],
   "source": [
    "friendships = [(0, 1), (0, 2), (1, 2), (1, 3), (2, 3), (3, 4),\n",
    "                (4, 5), (5, 6), (5, 7), (6, 8), (7, 8), (8, 9)]\n",
    "friendships"
   ]
  },
  {
   "cell_type": "markdown",
   "metadata": {},
   "source": [
    "### What can we do\n",
    "Since we represented our users as dicts, it’s easy to augment them with extra data.<br>\n",
    "For example, we might want to add a list of friends to each user. First we set each user’s friends property to an empty list:"
   ]
  },
  {
   "cell_type": "code",
   "execution_count": 3,
   "metadata": {},
   "outputs": [],
   "source": [
    "for user in users:\n",
    "    user[\"friends\"] = []"
   ]
  },
  {
   "cell_type": "markdown",
   "metadata": {},
   "source": [
    "And then we populate the lists using the friendships data:"
   ]
  },
  {
   "cell_type": "code",
   "execution_count": 4,
   "metadata": {},
   "outputs": [],
   "source": [
    "for i, j in friendships:\n",
    "    # this works because users[i] is the user whose id is i\n",
    "    users[i][\"friends\"].append(users[j]) # add i as a friend of j\n",
    "    users[j][\"friends\"].append(users[i]) # add j as a friend of i"
   ]
  },
  {
   "cell_type": "markdown",
   "metadata": {},
   "source": [
    "<br>\n",
    "#### What’s the average number of connections?\n",
    "Once each user dict contains a list of friends, we can easily ask questions of our graph, like “what’s the average number of connections?” <br>\n",
    "First we find the total number of connections, by summing up the lengths of all the friends lists:"
   ]
  },
  {
   "cell_type": "code",
   "execution_count": 5,
   "metadata": {},
   "outputs": [],
   "source": [
    "def number_of_friends(user):\n",
    "    \"\"\"how many friends does _user_ have?\"\"\"\n",
    "    return len(user[\"friends\"]) # length of friend_ids list\n",
    "\n",
    "total_connections = sum(number_of_friends(user) \n",
    "                        for user in users) # 24"
   ]
  },
  {
   "cell_type": "markdown",
   "metadata": {},
   "source": [
    "And then we just divide by the number of users:"
   ]
  },
  {
   "cell_type": "code",
   "execution_count": 6,
   "metadata": {},
   "outputs": [
    {
     "data": {
      "text/plain": [
       "2.4"
      ]
     },
     "execution_count": 6,
     "metadata": {},
     "output_type": "execute_result"
    }
   ],
   "source": [
    "num_users = len(users) # length of the users list\n",
    "avg_connections = total_connections / num_users\n",
    "avg_connections"
   ]
  },
  {
   "cell_type": "markdown",
   "metadata": {},
   "source": [
    "#### Sort by # of friends\n",
    "It’s also easy to find the most connected people — they’re the people who have the largest number of friends. <br>\n",
    "Since there aren’t very many users, we can sort them from “most friends” to “least friends”:"
   ]
  },
  {
   "cell_type": "code",
   "execution_count": 7,
   "metadata": {},
   "outputs": [
    {
     "data": {
      "text/plain": [
       "\" # My simple version of 'most friends'\\nmax_num_of_friends = 0\\nhis_id = 0\\nfor user in users:\\n    if max_num_of_friends < len(user['friends']):\\n        max_num_of_friends = len(user['friends'])\\n        his_id = user['id']\\n        \\nprint(max_num_of_friends, users[his_id]['name'])\\n\""
      ]
     },
     "execution_count": 7,
     "metadata": {},
     "output_type": "execute_result"
    }
   ],
   "source": [
    "# by Maksim Naumov\n",
    "\"\"\" # My simple version of 'most friends'\n",
    "max_num_of_friends = 0\n",
    "his_id = 0\n",
    "for user in users:\n",
    "    if max_num_of_friends < len(user['friends']):\n",
    "        max_num_of_friends = len(user['friends'])\n",
    "        his_id = user['id']\n",
    "        \n",
    "print(max_num_of_friends, users[his_id]['name'])\n",
    "\"\"\""
   ]
  },
  {
   "cell_type": "markdown",
   "metadata": {},
   "source": [
    "key=lambda user: user[1]: <br>\n",
    "* **lambda** — one line function. <br>\n",
    "* **user** — from first arg(which is *num_friends_by_id* in this case). \n",
    "* we need to sort by # of friends. So, key must be second value of tuple — **user[1]**"
   ]
  },
  {
   "cell_type": "code",
   "execution_count": 8,
   "metadata": {},
   "outputs": [
    {
     "data": {
      "text/plain": [
       "[(1, 3),\n",
       " (2, 3),\n",
       " (3, 3),\n",
       " (5, 3),\n",
       " (8, 3),\n",
       " (0, 2),\n",
       " (4, 2),\n",
       " (6, 2),\n",
       " (7, 2),\n",
       " (9, 1)]"
      ]
     },
     "execution_count": 8,
     "metadata": {},
     "output_type": "execute_result"
    }
   ],
   "source": [
    "# create a list (user_id, number_of_friends)\n",
    "num_friends_by_id = [(user[\"id\"], number_of_friends(user))\n",
    "                     for user in users]\n",
    "\n",
    "sorted(num_friends_by_id,\n",
    "       key=lambda user: user[1],  \n",
    "       reverse=True)             # largest to smallest"
   ]
  },
  {
   "cell_type": "markdown",
   "metadata": {},
   "source": [
    "## Data Scientists You May Know"
   ]
  },
  {
   "cell_type": "markdown",
   "metadata": {},
   "source": [
    "Your first instinct is to suggest that a user might know the friends of friends. These are easy to compute: for each of a user’s friends, iterate over that person’s friends, and collect all the results:"
   ]
  },
  {
   "cell_type": "code",
   "execution_count": 9,
   "metadata": {},
   "outputs": [
    {
     "data": {
      "text/plain": [
       "[0, 2, 3, 0, 1, 3]"
      ]
     },
     "execution_count": 9,
     "metadata": {},
     "output_type": "execute_result"
    }
   ],
   "source": [
    "def friends_of_friend_ids_bad(user):\n",
    "    # \"foaf\" is short for \"friend of a friend\"\n",
    "    return [foaf[\"id\"]\n",
    "            for friend in user[\"friends\"]   # for each of user's friends\n",
    "            for foaf in friend[\"friends\"]]  # get each of _their_ friends\n",
    "\n",
    "friends_of_friend_ids_bad(users[0])"
   ]
  },
  {
   "cell_type": "markdown",
   "metadata": {},
   "source": [
    "It includes user 0 (twice), since Hero is indeed friends with both of his friends. It includes users 1 and 2, although they are both friends with Hero already. And it includes user 3 twice, as Chi is reachable through two different friends:"
   ]
  },
  {
   "cell_type": "code",
   "execution_count": 10,
   "metadata": {},
   "outputs": [
    {
     "name": "stdout",
     "output_type": "stream",
     "text": [
      "[1, 2]\n",
      "[0, 2, 3]\n",
      "[0, 1, 3]\n"
     ]
    }
   ],
   "source": [
    "print( [friend[\"id\"] for friend in users[0][\"friends\"]] )  # [1, 2]\n",
    "print( [friend[\"id\"] for friend in users[1][\"friends\"]] )  # [0, 2, 3]\n",
    "print( [friend[\"id\"] for friend in users[2][\"friends\"]] )  # [0, 1, 3]"
   ]
  },
  {
   "cell_type": "markdown",
   "metadata": {},
   "source": [
    "Knowing that people are friends-of-friends in multiple ways seems like interesting information, so maybe instead we should produce a count of mutual friends. And we definitely should use a helper function to exclude people already known to the user:"
   ]
  },
  {
   "cell_type": "code",
   "execution_count": 11,
   "metadata": {},
   "outputs": [
    {
     "name": "stdout",
     "output_type": "stream",
     "text": [
      "Counter({0: 2, 5: 1})\n"
     ]
    }
   ],
   "source": [
    "from collections import Counter # not loaded by default\n",
    "\n",
    "def not_the_same(user, other_user):\n",
    "    \"\"\"two users are not the same if they have different ids\"\"\"\n",
    "    return user[\"id\"] != other_user[\"id\"]\n",
    "\n",
    "def not_friends(user, other_user):\n",
    "    \"\"\"other_user is not a friend if he's not in user[\"friends\"];\n",
    "    that is, if he's not_the_same as all the people in user[\"friends\"]\"\"\"\n",
    "    return all(not_the_same(friend, other_user)\n",
    "               for friend in user[\"friends\"])\n",
    "    # by Maksim Naumov: but much easier just: return other_user not in user['friends']\n",
    "\n",
    "def friends_of_friend_ids(user):\n",
    "    return Counter(foaf[\"id\"]\n",
    "                   for friend in user[\"friends\"] # for each of my friends\n",
    "                   for foaf in friend[\"friends\"] # count *their* friends\n",
    "                   if not_the_same(user, foaf) # who aren't me\n",
    "                   and not_friends(user, foaf)) # and aren't my friends\n",
    "\n",
    "print(friends_of_friend_ids(users[3]))"
   ]
  },
  {
   "cell_type": "markdown",
   "metadata": {},
   "source": [
    "This correctly tells Chi (id 3) that she has two mutual friends with Hero (id 0) but only one mutual friend with Clive (id 5). \n",
    "<br>\n",
    "by Maksim Naumov: My realization without Counter(but i understand Counter, that's cool thing, and I could implement that myself — look at gdoc->Python-basics->dictionary):"
   ]
  },
  {
   "cell_type": "code",
   "execution_count": 12,
   "metadata": {},
   "outputs": [
    {
     "data": {
      "text/plain": [
       "[0, 5]"
      ]
     },
     "execution_count": 12,
     "metadata": {},
     "output_type": "execute_result"
    }
   ],
   "source": [
    "def not_the_same(user, other_user):\n",
    "    return user['id'] != other_user['id']\n",
    "\n",
    "def not_friends(user, other_user):\n",
    "    return other_user not in user['friends']\n",
    "\n",
    "def foaf(user):\n",
    "    friends_of_friend_ids = []\n",
    "    for friend in user['friends']:                  # for each of my friends\n",
    "        for foaf in friend['friends']:\n",
    "            if not_the_same(user ,foaf) \\\n",
    "            and not_friends(user, foaf) \\\n",
    "            and foaf['id'] not in friends_of_friend_ids: \n",
    "                friends_of_friend_ids.append(foaf['id'])\n",
    "    return friends_of_friend_ids\n",
    "        \n",
    "foaf(users[3])"
   ]
  },
  {
   "cell_type": "markdown",
   "metadata": {},
   "source": [
    "### Interests\n",
    "As a data scientist, you know that you also might enjoy meeting users with similar interests. (This is a good example of the “*substantive expertise*” aspect of data science.) After asking around, you manage to get your hands on this data, as a list of pairs(user_id, interest):"
   ]
  },
  {
   "cell_type": "code",
   "execution_count": 13,
   "metadata": {},
   "outputs": [],
   "source": [
    "interests = [\n",
    "    (0, \"Hadoop\"), (0, \"Big Data\"), (0, \"HBase\"), (0, \"Java\"),\n",
    "    (0, \"Spark\"), (0, \"Storm\"), (0, \"Cassandra\"),\n",
    "    (1, \"NoSQL\"), (1, \"MongoDB\"), (1, \"Cassandra\"), (1, \"HBase\"),\n",
    "    (1, \"Postgres\"), (2, \"Python\"), (2, \"scikit-learn\"), (2, \"scipy\"),\n",
    "    (2, \"numpy\"), (2, \"statsmodels\"), (2, \"pandas\"), (3, \"R\"), (3, \"Python\"),\n",
    "    (3, \"statistics\"), (3, \"regression\"), (3, \"probability\"),\n",
    "    (4, \"machine learning\"), (4, \"regression\"), (4, \"decision trees\"),\n",
    "    (4, \"libsvm\"), (5, \"Python\"), (5, \"R\"), (5, \"Java\"), (5, \"C++\"),\n",
    "    (5, \"Haskell\"), (5, \"programming languages\"), (6, \"statistics\"),\n",
    "    (6, \"probability\"), (6, \"mathematics\"), (6, \"theory\"),\n",
    "    (7, \"machine learning\"), (7, \"scikit-learn\"), (7, \"Mahout\"),\n",
    "    (7, \"neural networks\"), (8, \"neural networks\"), (8, \"deep learning\"),\n",
    "    (8, \"Big Data\"), (8, \"artificial intelligence\"), (9, \"Hadoop\"),\n",
    "    (9, \"Java\"), (9, \"MapReduce\"), (9, \"Big Data\")\n",
    "]"
   ]
  },
  {
   "cell_type": "markdown",
   "metadata": {},
   "source": [
    "For example, Thor (id 4) has no friends in common with Devin (id 7), but they share an interest in machine learning. <br>\n",
    "It’s easy to build a function that finds users with a certain interest:"
   ]
  },
  {
   "cell_type": "code",
   "execution_count": 14,
   "metadata": {},
   "outputs": [],
   "source": [
    "def data_scientists_who_like(target_interest):\n",
    "    return [user_id\n",
    "        for user_id, user_interest in interests\n",
    "            if user_interest == target_interest]"
   ]
  },
  {
   "cell_type": "markdown",
   "metadata": {},
   "source": [
    "This works, but it has to examine the whole list of interests for every search. If we have a lot of users and interests (or if we just want to do a lot of searches), we’re probably better off building an index from interests to users:"
   ]
  },
  {
   "cell_type": "code",
   "execution_count": 15,
   "metadata": {},
   "outputs": [],
   "source": [
    "from collections import defaultdict\n",
    "# keys are interests, values are lists of user_ids with that interest\n",
    "user_ids_by_interest = defaultdict(list)\n",
    "\n",
    "for user_id, interest in interests:\n",
    "    user_ids_by_interest[interest].append(user_id)"
   ]
  },
  {
   "cell_type": "markdown",
   "metadata": {},
   "source": [
    "And another from users to interests:"
   ]
  },
  {
   "cell_type": "code",
   "execution_count": 16,
   "metadata": {},
   "outputs": [],
   "source": [
    "# keys are user_ids, values are lists of interests for that user_id\n",
    "interests_by_user_id = defaultdict(list)\n",
    "\n",
    "for user_id, interest in interests:\n",
    "    interests_by_user_id[user_id].append(interest)"
   ]
  },
  {
   "cell_type": "markdown",
   "metadata": {},
   "source": [
    "Now it’s easy to find who has the most interests in common with a given user:\n",
    "* Iterate over the user’s interests.\n",
    "* For each interest, iterate over the other users with that interest.\n",
    "* Keep count of how many times we see each other user."
   ]
  },
  {
   "cell_type": "code",
   "execution_count": 17,
   "metadata": {},
   "outputs": [
    {
     "data": {
      "text/plain": [
       "Counter({9: 3, 8: 1, 1: 2, 5: 1})"
      ]
     },
     "execution_count": 17,
     "metadata": {},
     "output_type": "execute_result"
    }
   ],
   "source": [
    "def most_common_interests_with(user):\n",
    "    return Counter(interested_user_id\n",
    "                   for interest in interests_by_user_id[user[\"id\"]]\n",
    "                   for interested_user_id in user_ids_by_interest[interest]\n",
    "                   if interested_user_id != user[\"id\"])\n",
    "\n",
    "most_common_interests_with(users[0])"
   ]
  },
  {
   "cell_type": "markdown",
   "metadata": {},
   "source": [
    "## Salaries and Experience\n",
    "Anonymous data set containing each user’s salary (in dollars) and tenure as a data scientist (in years):"
   ]
  },
  {
   "cell_type": "code",
   "execution_count": 18,
   "metadata": {},
   "outputs": [],
   "source": [
    "salaries_and_tenures = [(83000, 8.7), (88000, 8.1),\n",
    "    (48000, 0.7), (76000, 6),\n",
    "    (69000, 6.5), (76000, 7.5),\n",
    "    (60000, 2.5), (83000, 10),\n",
    "    (48000, 1.9), (63000, 4.2)]"
   ]
  },
  {
   "cell_type": "markdown",
   "metadata": {},
   "source": [
    "plot salary / tenure"
   ]
  },
  {
   "cell_type": "code",
   "execution_count": 19,
   "metadata": {},
   "outputs": [
    {
     "data": {
      "text/plain": [
       "<Figure size 1000x1000 with 1 Axes>"
      ]
     },
     "metadata": {},
     "output_type": "display_data"
    }
   ],
   "source": [
    "import matplotlib.pyplot as plt\n",
    "\n",
    "salaries = []\n",
    "tenures = []\n",
    "\n",
    "for salary, tenure in salaries_and_tenures:\n",
    "    salaries.append(salary)\n",
    "    tenures.append(tenure)\n",
    "\n",
    "plt.figure(figsize=(10, 10))\n",
    "plt.scatter(tenures, salaries)\n",
    "plt.axis([0, 12, 40000, 100000])\n",
    "plt.yticks(fontsize=15) #rotation=90)\n",
    "plt.xticks(fontsize=15)\n",
    "plt.xlabel('Years Experience', fontsize=15)\n",
    "plt.ylabel('Salary', fontsize=15)\n",
    "plt.title('Salary by Years Experience', fontsize=20)\n",
    "plt.show()"
   ]
  },
  {
   "cell_type": "markdown",
   "metadata": {},
   "source": [
    "### Average salary for each tenure:"
   ]
  },
  {
   "cell_type": "code",
   "execution_count": 20,
   "metadata": {},
   "outputs": [
    {
     "data": {
      "text/plain": [
       "{8.7: 83000.0,\n",
       " 8.1: 88000.0,\n",
       " 0.7: 48000.0,\n",
       " 6: 76000.0,\n",
       " 6.5: 69000.0,\n",
       " 7.5: 76000.0,\n",
       " 2.5: 60000.0,\n",
       " 10: 83000.0,\n",
       " 1.9: 48000.0,\n",
       " 4.2: 63000.0}"
      ]
     },
     "execution_count": 20,
     "metadata": {},
     "output_type": "execute_result"
    }
   ],
   "source": [
    "# keys are years, values are lists of the salaries for each tenure\n",
    "salary_by_tenure = defaultdict(list)\n",
    "\n",
    "for salary, tenure in salaries_and_tenures:\n",
    "    salary_by_tenure[tenure].append(salary)\n",
    "\n",
    "# keys are years, each value is average salary for that tenure\n",
    "average_salary_by_tenure = {\n",
    "    tenure : sum(salaries) / len(salaries)\n",
    "    for tenure, salaries in salary_by_tenure.items()\n",
    "}\n",
    "\n",
    "average_salary_by_tenure"
   ]
  },
  {
   "cell_type": "markdown",
   "metadata": {},
   "source": [
    "This turns out to be not particularly useful, as none of the users have the same tenure, which means we’re just reporting the individual users’salaries. \n",
    "<br>\n",
    "<br>\n",
    "It might be more helpful to bucket the tenures:"
   ]
  },
  {
   "cell_type": "code",
   "execution_count": 21,
   "metadata": {},
   "outputs": [],
   "source": [
    "def tenure_bucket(tenure):\n",
    "    if tenure < 2:\n",
    "        return \"less than two\"\n",
    "    elif tenure < 5:\n",
    "        return \"between two and five\"\n",
    "    else:\n",
    "        return \"more than five\""
   ]
  },
  {
   "cell_type": "markdown",
   "metadata": {},
   "source": [
    "Then group together the salaries corresponding to each bucket"
   ]
  },
  {
   "cell_type": "code",
   "execution_count": 22,
   "metadata": {},
   "outputs": [
    {
     "data": {
      "text/plain": [
       "defaultdict(list,\n",
       "            {'more than five': [83000, 88000, 76000, 69000, 76000, 83000],\n",
       "             'less than two': [48000, 48000],\n",
       "             'between two and five': [60000, 63000]})"
      ]
     },
     "execution_count": 22,
     "metadata": {},
     "output_type": "execute_result"
    }
   ],
   "source": [
    "# keys are tenure buckets, values are lists of salaries for that bucket\n",
    "salary_by_tenure_bucket = defaultdict(list)\n",
    "\n",
    "for salary, tenure in salaries_and_tenures:\n",
    "    bucket = tenure_bucket(tenure)\n",
    "    salary_by_tenure_bucket[bucket].append(salary)\n",
    "    \n",
    "salary_by_tenure_bucket"
   ]
  },
  {
   "cell_type": "markdown",
   "metadata": {},
   "source": [
    "Compute the average salary for each group:"
   ]
  },
  {
   "cell_type": "code",
   "execution_count": 23,
   "metadata": {},
   "outputs": [
    {
     "data": {
      "text/plain": [
       "{'more than five': 79166.66666666667,\n",
       " 'less than two': 48000.0,\n",
       " 'between two and five': 61500.0}"
      ]
     },
     "execution_count": 23,
     "metadata": {},
     "output_type": "execute_result"
    }
   ],
   "source": [
    "# keys are tenure buckets, values are average salary for that bucket\n",
    "average_salary_by_bucket = {\n",
    "    tenure_bucket : sum(salaries) / len(salaries)\n",
    "    for tenure_bucket, salaries in salary_by_tenure_bucket.items()\n",
    "}\n",
    "\n",
    "average_salary_by_bucket"
   ]
  },
  {
   "cell_type": "markdown",
   "metadata": {},
   "source": [
    "And you have your soundbite: “Data scientists with more than five years experience earn 65% more than data scientists with little or no experience!” But we chose the buckets in a pretty arbitrary way. What we’d really like is to make some sort of statement about the salary effect — on average — of having an additional year of experience."
   ]
  },
  {
   "cell_type": "markdown",
   "metadata": {},
   "source": [
    "## Paid Accounts\n",
    "which users pay for accounts and which don’t.<br>\n",
    "You notice that there seems to be a correspondence between years of experience and paid accounts. Users with very few and very many years of experience tend to pay; users with average amounts of experience don’t."
   ]
  },
  {
   "cell_type": "markdown",
   "metadata": {},
   "source": [
    "0.7 paid <br>\n",
    "1.9 unpaid <br>\n",
    "2.5 paid <br>\n",
    "4.2 unpaid <br>\n",
    "6 unpaid <br>\n",
    "6.5 unpaid <br>\n",
    "7.5 unpaid <br>\n",
    "8.1 unpaid <br>\n",
    "8.7 paid <br>\n",
    "10 paid <br>"
   ]
  },
  {
   "cell_type": "markdown",
   "metadata": {},
   "source": [
    "Accordingly, if you wanted to create a model — though this is definitely not enough data to base a model on — you might try to predict “paid” for users with very few and very many years of experience, and “unpaid” for users with middling amounts of experience:"
   ]
  },
  {
   "cell_type": "code",
   "execution_count": 24,
   "metadata": {},
   "outputs": [],
   "source": [
    "def predict_paid_or_unpaid(years_experience):\n",
    "    if years_experience < 3.0:\n",
    "        return \"paid\"\n",
    "    elif years_experience < 8.5:\n",
    "        return \"unpaid\"\n",
    "    else:\n",
    "        return \"paid\""
   ]
  },
  {
   "cell_type": "markdown",
   "metadata": {},
   "source": [
    "## Topics of Interest\n",
    "what topics users are most interested in"
   ]
  },
  {
   "cell_type": "code",
   "execution_count": 25,
   "metadata": {},
   "outputs": [],
   "source": [
    "interests = [\n",
    "    (0, \"Hadoop\"), (0, \"Big Data\"), (0, \"HBase\"), (0, \"Java\"),\n",
    "    (0, \"Spark\"), (0, \"Storm\"), (0, \"Cassandra\"),\n",
    "    (1, \"NoSQL\"), (1, \"MongoDB\"), (1, \"Cassandra\"), (1, \"HBase\"),\n",
    "    (1, \"Postgres\"), (2, \"Python\"), (2, \"scikit-learn\"), (2, \"scipy\"),\n",
    "    (2, \"numpy\"), (2, \"statsmodels\"), (2, \"pandas\"), (3, \"R\"), (3, \"Python\"),\n",
    "    (3, \"statistics\"), (3, \"regression\"), (3, \"probability\"),\n",
    "    (4, \"machine learning\"), (4, \"regression\"), (4, \"decision trees\"),\n",
    "    (4, \"libsvm\"), (5, \"Python\"), (5, \"R\"), (5, \"Java\"), (5, \"C++\"),\n",
    "    (5, \"Haskell\"), (5, \"programming languages\"), (6, \"statistics\"),\n",
    "    (6, \"probability\"), (6, \"mathematics\"), (6, \"theory\"),\n",
    "    (7, \"machine learning\"), (7, \"scikit-learn\"), (7, \"Mahout\"),\n",
    "    (7, \"neural networks\"), (8, \"neural networks\"), (8, \"deep learning\"),\n",
    "    (8, \"Big Data\"), (8, \"artificial intelligence\"), (9, \"Hadoop\"),\n",
    "    (9, \"Java\"), (9, \"MapReduce\"), (9, \"Big Data\")\n",
    "]"
   ]
  },
  {
   "cell_type": "markdown",
   "metadata": {},
   "source": [
    "One simple (if not particularly exciting) way to find the most popular interests is simply to count the words:\n",
    "1. Lowercase each interest (since different users may or may not capitalize their\n",
    "interests).\n",
    "2. Split it into words.\n",
    "3. Count the results."
   ]
  },
  {
   "cell_type": "code",
   "execution_count": 26,
   "metadata": {},
   "outputs": [
    {
     "data": {
      "text/plain": [
       "Counter({'hadoop': 2,\n",
       "         'big': 3,\n",
       "         'data': 3,\n",
       "         'hbase': 2,\n",
       "         'java': 3,\n",
       "         'spark': 1,\n",
       "         'storm': 1,\n",
       "         'cassandra': 2,\n",
       "         'nosql': 1,\n",
       "         'mongodb': 1,\n",
       "         'postgres': 1,\n",
       "         'python': 3,\n",
       "         'scikit-learn': 2,\n",
       "         'scipy': 1,\n",
       "         'numpy': 1,\n",
       "         'statsmodels': 1,\n",
       "         'pandas': 1,\n",
       "         'r': 2,\n",
       "         'statistics': 2,\n",
       "         'regression': 2,\n",
       "         'probability': 2,\n",
       "         'machine': 2,\n",
       "         'learning': 3,\n",
       "         'decision': 1,\n",
       "         'trees': 1,\n",
       "         'libsvm': 1,\n",
       "         'c++': 1,\n",
       "         'haskell': 1,\n",
       "         'programming': 1,\n",
       "         'languages': 1,\n",
       "         'mathematics': 1,\n",
       "         'theory': 1,\n",
       "         'mahout': 1,\n",
       "         'neural': 2,\n",
       "         'networks': 2,\n",
       "         'deep': 1,\n",
       "         'artificial': 1,\n",
       "         'intelligence': 1,\n",
       "         'mapreduce': 1})"
      ]
     },
     "execution_count": 26,
     "metadata": {},
     "output_type": "execute_result"
    }
   ],
   "source": [
    "words_and_counts = Counter(word\n",
    "    for user, interest in interests\n",
    "    for word in interest.lower().split())\n",
    "\n",
    "words_and_counts"
   ]
  },
  {
   "cell_type": "markdown",
   "metadata": {},
   "source": [
    "This makes it easy to list out the words that occur more than once:"
   ]
  },
  {
   "cell_type": "code",
   "execution_count": 27,
   "metadata": {},
   "outputs": [
    {
     "name": "stdout",
     "output_type": "stream",
     "text": [
      "hadoop 2\n",
      "big 3\n",
      "data 3\n",
      "hbase 2\n",
      "java 3\n",
      "cassandra 2\n",
      "python 3\n",
      "scikit-learn 2\n",
      "r 2\n",
      "statistics 2\n",
      "regression 2\n",
      "probability 2\n",
      "machine 2\n",
      "learning 3\n",
      "neural 2\n",
      "networks 2\n"
     ]
    }
   ],
   "source": [
    "for word, count in words_and_counts.items():\n",
    "    if count > 1:\n",
    "        print(word, count)"
   ]
  },
  {
   "cell_type": "markdown",
   "metadata": {},
   "source": [
    "# Chapter 3. Visualizing Data\n",
    "There are two primary uses for data visualization:\n",
    "* To explore data\n",
    "* To communicate data\n",
    "\n",
    "## matplotlib"
   ]
  },
  {
   "cell_type": "code",
   "execution_count": 28,
   "metadata": {},
   "outputs": [
    {
     "data": {
      "image/png": "[encoded data removed]",
      "text/plain": [
       "<Figure size 432x288 with 1 Axes>"
      ]
     },
     "metadata": {},
     "output_type": "display_data"
    }
   ],
   "source": [
    "import matplotlib.pyplot as plt\n",
    "\n",
    "years = [1950, 1960, 1970, 1980, 1990, 2000, 2010]\n",
    "gdp = [300.2, 543.3, 1075.9, 2862.5, 5979.6, 10289.7, 14958.3]\n",
    "\n",
    "# create a line chart, years on x-axis, gdp on y-axis\n",
    "plt.plot(years, gdp, color='green', marker='o', linestyle='solid')\n",
    "\n",
    "# add a title\n",
    "plt.title(\"Nominal GDP\")\n",
    "\n",
    "# add a label to the y-axis\n",
    "plt.ylabel(\"Billions of $\")\n",
    "plt.show()"
   ]
  },
  {
   "cell_type": "markdown",
   "metadata": {},
   "source": [
    "## Bar Charts\n",
    "by Maksim Naumov:\n",
    "Here is the main difference between bar charts and histograms. With <span style='background-color: yellow'>bar charts</span>, each column represents a group defined by a <span style='background-color: yellow'>categorical</span> variable; and with <span style='background-color: yellow'>histograms</span>, each column represents a group defined by a <span style='background-color: yellow'>continuous, quantitative</span> variable.\n",
    "<img src='https://qph.fs.quoracdn.net/main-qimg-237e649130e7ae0245e003a6a1949b91'>\n",
    "\n",
    "### Quantity varies\n",
    "A bar chart is a good choice when you want to show how some <span style='background-color: yellow'>quantity varies among some discrete set of items</span>. <br>\n",
    "For instance, shows how many Academy Awards were won by each of a variety of movies.<br>\n",
    "A simple bar chart:"
   ]
  },
  {
   "cell_type": "code",
   "execution_count": 29,
   "metadata": {},
   "outputs": [
    {
     "data": {
      "image/png": "[encoded data removed]",
      "text/plain": [
       "<Figure size 432x288 with 1 Axes>"
      ]
     },
     "metadata": {},
     "output_type": "display_data"
    }
   ],
   "source": [
    "movies = [\"Annie Hall\", \"Ben-Hur\", \"Casablanca\", \"Gandhi\", \"West Side Story\"]\n",
    "num_oscars = [5, 11, 3, 8, 10]\n",
    "\n",
    "plt.bar(movies, num_oscars)\n",
    "\n",
    "plt.ylabel(\"# of Academy Awards\")\n",
    "plt.title(\"My Favorite Movies\")\n",
    "\n",
    "plt.show()"
   ]
  },
  {
   "cell_type": "markdown",
   "metadata": {},
   "source": [
    "### How distributed\n",
    "A bar chart can also be a good choice for plotting <span style='background-color: yellow'>histograms of bucketed numeric values, in order to visually explore how the values are distributed</span>. <span style='background-color: #b2c8ff'>Look at decile</span> -> cool thing. <br>\n",
    "Using a bar chart for a histogram:"
   ]
  },
  {
   "cell_type": "code",
   "execution_count": 30,
   "metadata": {},
   "outputs": [
    {
     "data": {
      "image/png": "[encoded data removed]",
      "text/plain": [
       "<Figure size 432x288 with 1 Axes>"
      ]
     },
     "metadata": {},
     "output_type": "display_data"
    }
   ],
   "source": [
    "from collections import Counter\n",
    "\n",
    "grades = [83,95,91,87,70,0,85,82,100,67,73,77,0]\n",
    "def decile(grade): return grade // 10 * 10\n",
    "histogram = Counter(decile(grade) for grade in grades)\n",
    "\n",
    "plt.bar(histogram.keys(),\n",
    "        histogram.values(),\n",
    "        8) # give each bar a width of 8\n",
    "\n",
    "plt.axis([-5, 105, 0, 5])   # x-axis from -5 to 105,\n",
    "                            # y-axis from 0 to 5\n",
    "\n",
    "plt.xticks([10 * i for i in range(11)]) # x-axis labels at 0, 10, ..., 100\n",
    "plt.xlabel(\"Decile\")\n",
    "plt.ylabel(\"# of Students\")\n",
    "plt.title(\"Distribution of Exam 1 Grades\")\n",
    "plt.show()"
   ]
  },
  {
   "cell_type": "markdown",
   "metadata": {},
   "source": [
    "<br>\n",
    "Be judicious when using plt.axis(). When creating bar charts it is considered especially <span style='background-color: #ef9181'>bad form for your y-axis not to start at 0</span>, since this is an easy way to mislead people"
   ]
  },
  {
   "cell_type": "markdown",
   "metadata": {},
   "source": [
    "### Misleading\n",
    "A chart with a misleading y-axis:"
   ]
  },
  {
   "cell_type": "code",
   "execution_count": 31,
   "metadata": {},
   "outputs": [
    {
     "data": {
      "image/png": "[encoded data removed]",
      "text/plain": [
       "<Figure size 432x288 with 1 Axes>"
      ]
     },
     "metadata": {},
     "output_type": "display_data"
    }
   ],
   "source": [
    "mentions = [500, 505]\n",
    "years = [2013, 2014]\n",
    "\n",
    "plt.bar(years, mentions, 0.8)\n",
    "plt.xticks(years)\n",
    "plt.ylabel(\"# of times I heard someone say 'data science'\")\n",
    "\n",
    "# misleading y-axis only shows the part above 500\n",
    "plt.ylim([499,506])\n",
    "\n",
    "plt.title(\"Look at the 'Huge' Increase!\")\n",
    "plt.show()"
   ]
  },
  {
   "cell_type": "markdown",
   "metadata": {},
   "source": [
    "we use more-sensible axes, and it looks far less impressive. The same chart with a nonmisleading y-axis:"
   ]
  },
  {
   "cell_type": "code",
   "execution_count": 32,
   "metadata": {},
   "outputs": [
    {
     "data": {
      "image/png": "[encoded data removed]",
      "text/plain": [
       "<Figure size 432x288 with 1 Axes>"
      ]
     },
     "metadata": {},
     "output_type": "display_data"
    }
   ],
   "source": [
    "mentions = [500, 505]\n",
    "years = [2013, 2014]\n",
    "\n",
    "plt.bar(years, mentions, 0.8)\n",
    "plt.xticks(years)\n",
    "plt.ylabel(\"# of times I heard someone say 'data science'\")\n",
    "\n",
    "# misleading y-axis only shows the part above 500\n",
    "plt.ylim([0,550])\n",
    "\n",
    "plt.title(\"Not So Huge Anymore\")\n",
    "plt.show()"
   ]
  },
  {
   "cell_type": "markdown",
   "metadata": {},
   "source": [
    "## Line Charts"
   ]
  },
  {
   "cell_type": "markdown",
   "metadata": {},
   "source": [
    "These are a good choice for <span style='background-color: yellow'>showing trends</span>"
   ]
  },
  {
   "cell_type": "code",
   "execution_count": 33,
   "metadata": {},
   "outputs": [
    {
     "data": {
      "image/png": "[encoded data removed]",
      "text/plain": [
       "<Figure size 432x288 with 1 Axes>"
      ]
     },
     "metadata": {},
     "output_type": "display_data"
    }
   ],
   "source": [
    "variance = [1, 2, 4, 8, 16, 32, 64, 128, 256]\n",
    "bias_squared = [256, 128, 64, 32, 16, 8, 4, 2, 1]\n",
    "total_error = [x + y for x, y in zip(variance, bias_squared)]\n",
    "xs = [i for i, _ in enumerate(variance)]  # [0, 1, 2, 3, 4, 5, 6, 7, 8]\n",
    "\n",
    "# we can make multiple calls to plt.plot\n",
    "# to show multiple series on the same chart\n",
    "plt.plot(xs, variance, 'g-', label='variance') # green solid line\n",
    "plt.plot(xs, bias_squared, 'r-.', label='bias^2') # red dot-dashed line\n",
    "plt.plot(xs, total_error, 'b:', label='total error') # blue dotted line\n",
    "\n",
    "# because we've assigned labels to each series\n",
    "# we can get a legend for free\n",
    "# loc=9 means \"top center\"\n",
    "plt.legend(loc=9)\n",
    "plt.xlabel(\"model complexity\")\n",
    "plt.title(\"The Bias-Variance Tradeoff\")\n",
    "plt.show()"
   ]
  },
  {
   "cell_type": "markdown",
   "metadata": {},
   "source": [
    "Legend loc:<img src='https://i.stack.imgur.com/pSYI5.png'>"
   ]
  },
  {
   "cell_type": "markdown",
   "metadata": {},
   "source": [
    "## Scatterplots\n",
    "A scatterplot is the right choice for visualizing the <span style='background-color: yellow'>relationship between two paired sets of data</span>.<br>\n",
    "For example, the relationship between the number of friends your users have and the number of minutes they spend on the site every day:"
   ]
  },
  {
   "cell_type": "code",
   "execution_count": 38,
   "metadata": {},
   "outputs": [
    {
     "data": {
      "image/png": "[encoded data removed]",
      "text/plain": [
       "<Figure size 432x288 with 1 Axes>"
      ]
     },
     "metadata": {},
     "output_type": "display_data"
    }
   ],
   "source": [
    "friends = [ 70, 65, 72, 63, 71, 64, 60, 64, 67]\n",
    "minutes = [175, 170, 205, 120, 220, 130, 105, 145, 190]\n",
    "labels = ['a', 'b', 'c', 'd', 'e', 'f', 'g', 'h', 'i']\n",
    "\n",
    "plt.scatter(friends, minutes)\n",
    "\n",
    "# label each point\n",
    "for label, friend_count, minute_count in zip(labels, friends, minutes):\n",
    "    plt.annotate(label,\n",
    "                 xy=(friend_count, minute_count),  # put the label with its point\n",
    "                 xytext=(5, -5),                   # but slightly offset\n",
    "                 textcoords='offset points')\n",
    "\n",
    "plt.title(\"Daily Minutes vs. Number of Friends\")\n",
    "plt.xlabel(\"# of friends\")\n",
    "plt.ylabel(\"daily minutes spent on the site\")\n",
    "plt.show()"
   ]
  },
  {
   "cell_type": "markdown",
   "metadata": {},
   "source": [
    "<br>\n",
    "If you’re scattering comparable variables, you might get a misleading picture if you let matplotlib choose the scale. <br>\n",
    "A scatterplot with uncomparable axes:"
   ]
  },
  {
   "cell_type": "code",
   "execution_count": 39,
   "metadata": {},
   "outputs": [
    {
     "data": {
      "image/png": "[encoded data removed]",
      "text/plain": [
       "<Figure size 432x288 with 1 Axes>"
      ]
     },
     "metadata": {},
     "output_type": "display_data"
    }
   ],
   "source": [
    "test_1_grades = [ 99, 90, 85, 97, 80]\n",
    "test_2_grades = [100, 85, 60, 90, 70]\n",
    "\n",
    "plt.scatter(test_1_grades, test_2_grades)\n",
    "plt.title(\"Axes Aren't Comparable\")\n",
    "plt.xlabel(\"test 1 grade\")\n",
    "plt.ylabel(\"test 2 grade\")\n",
    "plt.show()"
   ]
  },
  {
   "cell_type": "markdown",
   "metadata": {},
   "source": [
    "If we include a call to plt.axis(\"equal\"), the plot more accurately shows that most of the variation occurs on test 2(on the first misleading plot the variation was equal). <br>\n",
    "The same scatterplot with equal axes:"
   ]
  },
  {
   "cell_type": "code",
   "execution_count": 42,
   "metadata": {},
   "outputs": [
    {
     "data": {
      "image/png": "[encoded data removed]",
      "text/plain": [
       "<Figure size 432x288 with 1 Axes>"
      ]
     },
     "metadata": {},
     "output_type": "display_data"
    }
   ],
   "source": [
    "test_1_grades = [ 99, 90, 85, 97, 80]\n",
    "test_2_grades = [100, 85, 60, 90, 70]\n",
    "\n",
    "# this line helps\n",
    "plt.axis('equal')\n",
    "\n",
    "plt.scatter(test_1_grades, test_2_grades)\n",
    "plt.title(\"Axes Aren't Comparable\")\n",
    "plt.xlabel(\"test 1 grade\")\n",
    "plt.ylabel(\"test 2 grade\")\n",
    "plt.show()"
   ]
  },
  {
   "cell_type": "markdown",
   "metadata": {},
   "source": [
    "# Chapter 4. Linear Algebra\n",
    "Linear algebra is the branch of mathematics that deals with *vector spaces*. \n",
    "## Vectors\n",
    "Abstractly, *vectors* are objects that can be added together (to form new vectors) and that can be multiplied by *scalars* (i.e., numbers), also to form new vectors.\n",
    "<br>\n",
    "<br>\n",
    "Concretely (for us), vectors are points in some finite-dimensional space. Although you might not think of your data as vectors, they are a good way to represent numeric data.\n",
    "<br>\n",
    "<br>\n",
    "For example, if you have the heights, weights, and ages of a large number of people, you can treat your data as three-dimensional vectors (height, weight, age). If you’re teaching a class with four exams, you can treat student grades as four-dimensional vectors (exam1, exam2, exam3, exam4).\n",
    "<br>\n",
    "<br>\n",
    "The simplest from-scratch approach is to represent vectors as lists of numbers. A list of three numbers corresponds to a vector in three-dimensional space, and vice versa:"
   ]
  },
  {
   "cell_type": "code",
   "execution_count": 44,
   "metadata": {},
   "outputs": [],
   "source": [
    "height_weight_age = [70,  # inches,\n",
    "                     170, # pounds,\n",
    "                     40 ] # years\n",
    "\n",
    "grades = [95,   # exam1\n",
    "          80,   # exam2\n",
    "          75,   # exam3\n",
    "          62 ]  # exam4"
   ]
  },
  {
   "cell_type": "markdown",
   "metadata": {},
   "source": [
    "Using <span style='background-color: #ef9494'>lists as vectors</span> is great for exposition but <span style='background-color: #ef9494'>terrible for performance</span>. In production code, you would want to <span style='background-color: #bcef94'>use the NumPy library</span>, which includes a high-performance array class with all sorts of arithmetic operations included.\n",
    "\n",
    "One problem with this approach is that we will want to perform arithmetic on vectors. Because Python lists aren’t vectors (and hence provide no facilities for vector arithmetic), we’ll need to build these arithmetic tools ourselves.\n",
    "\n",
    "### Addition of two vectors\n",
    "To begin with, we’ll frequently need to add two vectors. Vectors add *componentwise*. This means that if two vectors v and w are the same length, their sum is just the vector whose first element is **v[0] + w[0]**, whose second element is **v[1] + w[1]**, and so on. (If they’re not the same length, then we’re not allowed to add them.) \n",
    "<br>\n",
    "<br>\n",
    "For example, adding the vectors **[1, 2]** and **[2, 1]** results in **[1 + 2, 2 + 1]** or **[3, 3]** :\n",
    "<img src='https://i.imgur.com/8ClOHy4.jpg'>\n",
    "\n",
    "<br>\n",
    "We can easily implement this by zip-ing the vectors together and using a list comprehension to add the corresponding elements:"
   ]
  },
  {
   "cell_type": "code",
   "execution_count": 62,
   "metadata": {},
   "outputs": [
    {
     "data": {
      "text/plain": [
       "[8, 6]"
      ]
     },
     "execution_count": 62,
     "metadata": {},
     "output_type": "execute_result"
    }
   ],
   "source": [
    "def vector_add(v, w):\n",
    "    \"\"\"adds corresponding elements\"\"\"\n",
    "    return [v_i + w_i\n",
    "            for v_i, w_i in zip(v, w)]\n",
    "\n",
    "vector_add([3,2], [5,4])"
   ]
  },
  {
   "cell_type": "markdown",
   "metadata": {},
   "source": [
    "### Subtraction of two vectors\n",
    "Similarly, to subtract two vectors we just subtract corresponding elements:"
   ]
  },
  {
   "cell_type": "code",
   "execution_count": 63,
   "metadata": {},
   "outputs": [
    {
     "data": {
      "text/plain": [
       "[-2, -2]"
      ]
     },
     "execution_count": 63,
     "metadata": {},
     "output_type": "execute_result"
    }
   ],
   "source": [
    "def vector_subtract(v, w):\n",
    "    \"\"\"subtracts corresponding elements\"\"\"\n",
    "    return [v_i - w_i\n",
    "            for v_i, w_i in zip(v, w)]\n",
    "\n",
    "vector_subtract([3,2], [5,4])"
   ]
  },
  {
   "cell_type": "markdown",
   "metadata": {},
   "source": [
    "### Sum a list of vectors\n",
    "We’ll also sometimes want to componentwise sum a list of vectors. That is, create a new vector whose first element is the sum of all the first elements, whose second element is the sum of all the second elements, and so on. The easiest way to do this is by adding one vector at a time:"
   ]
  },
  {
   "cell_type": "code",
   "execution_count": 65,
   "metadata": {},
   "outputs": [
    {
     "data": {
      "text/plain": [
       "[9, 7]"
      ]
     },
     "execution_count": 65,
     "metadata": {},
     "output_type": "execute_result"
    }
   ],
   "source": [
    "def vector_sum(vectors):\n",
    "    \"\"\"sums all corresponding elements\"\"\"\n",
    "    result = vectors[0]                       # start with the first vector\n",
    "    for vector in vectors[1:]:                # then loop over the others\n",
    "        result = vector_add(result, vector)   # and add them to the result\n",
    "    return result\n",
    "\n",
    "vector_sum([[3,2], [5,4], [1,1]])"
   ]
  },
  {
   "cell_type": "markdown",
   "metadata": {},
   "source": [
    "If you think about it, we are just *reduce*-ing the list of vectors using *vector_add*, which means we can rewrite this more briefly using higher-order functions:"
   ]
  },
  {
   "cell_type": "code",
   "execution_count": 66,
   "metadata": {},
   "outputs": [
    {
     "data": {
      "text/plain": [
       "[9, 7]"
      ]
     },
     "execution_count": 66,
     "metadata": {},
     "output_type": "execute_result"
    }
   ],
   "source": [
    "from functools import reduce\n",
    "\n",
    "def vector_sum(vectors):\n",
    "    return reduce(vector_add, vectors)\n",
    "\n",
    "vector_sum([[3,2], [5,4], [1,1]])"
   ]
  },
  {
   "cell_type": "markdown",
   "metadata": {},
   "source": [
    "or even (more clever than helpful):"
   ]
  },
  {
   "cell_type": "code",
   "execution_count": 67,
   "metadata": {},
   "outputs": [
    {
     "data": {
      "text/plain": [
       "[9, 7]"
      ]
     },
     "execution_count": 67,
     "metadata": {},
     "output_type": "execute_result"
    }
   ],
   "source": [
    "from functools import reduce\n",
    "from functools import partial\n",
    "\n",
    "vector_sum = partial(reduce, vector_add)\n",
    "\n",
    "vector_sum([[3,2], [5,4], [1,1]])"
   ]
  },
  {
   "cell_type": "markdown",
   "metadata": {},
   "source": [
    "### Multiply a vector by a scalar, \n",
    "Multiplying each element of the vector by that number:"
   ]
  },
  {
   "cell_type": "code",
   "execution_count": 68,
   "metadata": {},
   "outputs": [
    {
     "data": {
      "text/plain": [
       "[6, 4]"
      ]
     },
     "execution_count": 68,
     "metadata": {},
     "output_type": "execute_result"
    }
   ],
   "source": [
    "def scalar_multiply(c, v):\n",
    "    \"\"\"c is a number, v is a vector\"\"\"\n",
    "    return [c * v_i for v_i in v]\n",
    "\n",
    "scalar_multiply(2, [3,2])"
   ]
  },
  {
   "cell_type": "markdown",
   "metadata": {},
   "source": [
    "### Componentwise means of a list\n",
    "This allows us to compute the componentwise means of a list of (same-sized) vectors:"
   ]
  },
  {
   "cell_type": "code",
   "execution_count": 69,
   "metadata": {},
   "outputs": [
    {
     "data": {
      "text/plain": [
       "[3.0, 2.333333333333333]"
      ]
     },
     "execution_count": 69,
     "metadata": {},
     "output_type": "execute_result"
    }
   ],
   "source": [
    "def vector_mean(vectors):\n",
    "    \"\"\"compute the vector whose ith element is the mean of the\n",
    "    ith elements of the input vectors\"\"\"\n",
    "    n = len(vectors)\n",
    "    return scalar_multiply(1/n, vector_sum(vectors))\n",
    "\n",
    "vector_mean([[3,2], [5,4], [1,1]])"
   ]
  },
  {
   "cell_type": "markdown",
   "metadata": {},
   "source": [
    "### Dot product\n",
    "A less obvious tool is the dot product. The dot product of two vectors is the sum of their\n",
    "componentwise products:"
   ]
  },
  {
   "cell_type": "code",
   "execution_count": 70,
   "metadata": {},
   "outputs": [
    {
     "data": {
      "text/plain": [
       "23"
      ]
     },
     "execution_count": 70,
     "metadata": {},
     "output_type": "execute_result"
    }
   ],
   "source": [
    "def dot(v, w):\n",
    "    \"\"\"v_1 * w_1 + ... + v_n * w_n\"\"\"\n",
    "    return sum(v_i * w_i\n",
    "               for v_i, w_i in zip(v, w))\n",
    "\n",
    "dot([3,2], [5,4])"
   ]
  },
  {
   "cell_type": "markdown",
   "metadata": {},
   "source": [
    "The dot product measures how far the vector v extends in the w direction. For example, if\n",
    "**w = [1, 0]** then **dot(v, w)** is just the first component of **v**. <br>\n",
    "Another way of saying this is that it’s the length of the vector you’d get if you *projected* **v** onto **w**:\n",
    "<img src='https://i.imgur.com/SNvQdjq.jpg'>"
   ]
  },
  {
   "cell_type": "markdown",
   "metadata": {},
   "source": [
    "### Sum of squares\n",
    "Using **dot()**, it’s easy to compute a vector’s sum of squares:"
   ]
  },
  {
   "cell_type": "code",
   "execution_count": 80,
   "metadata": {},
   "outputs": [
    {
     "data": {
      "text/plain": [
       "49"
      ]
     },
     "execution_count": 80,
     "metadata": {},
     "output_type": "execute_result"
    }
   ],
   "source": [
    "def sum_of_squares(v):\n",
    "    \"\"\"v_1 * v_1 + ... + v_n * v_n\"\"\"\n",
    "    return dot(v, v)\n",
    "\n",
    "sum_of_squares([3,2,6])  # 3*3 + 2*2 + 6*6 = 49"
   ]
  },
  {
   "cell_type": "markdown",
   "metadata": {},
   "source": [
    "### Magnitude\n",
    "Which we can use to compute its magnitude (or length):"
   ]
  },
  {
   "cell_type": "code",
   "execution_count": 81,
   "metadata": {},
   "outputs": [
    {
     "data": {
      "text/plain": [
       "7.0"
      ]
     },
     "execution_count": 81,
     "metadata": {},
     "output_type": "execute_result"
    }
   ],
   "source": [
    "import math\n",
    "\n",
    "def magnitude(v):\n",
    "    return math.sqrt(sum_of_squares(v))  # math.sqrt is square root function\n",
    "\n",
    "magnitude([3,2,6])  # sqrt(49) = 7"
   ]
  },
  {
   "cell_type": "markdown",
   "metadata": {},
   "source": [
    "### Distance between two vectors\n",
    "We now have all the pieces we need to compute the distance between two vectors, defined\n",
    "as:\n",
    "<img src='https://i.imgur.com/AYxdN26.jpg'>"
   ]
  },
  {
   "cell_type": "code",
   "execution_count": 83,
   "metadata": {},
   "outputs": [
    {
     "data": {
      "text/plain": [
       "2.8284271247461903"
      ]
     },
     "execution_count": 83,
     "metadata": {},
     "output_type": "execute_result"
    }
   ],
   "source": [
    "def squared_distance(v, w):\n",
    "    \"\"\"(v_1 - w_1) ** 2 + ... + (v_n - w_n) ** 2\"\"\"\n",
    "    return sum_of_squares(vector_subtract(v, w))\n",
    "\n",
    "def distance(v, w):\n",
    "    return math.sqrt(squared_distance(v, w))\n",
    "\n",
    "distance([3,2], [5,4])  # [3,2] and [5,4] are coordinates in R2 \n",
    "                        # Then using Pythagorean theorem we get following:\n",
    "                        # both legs are equal to 2. \n",
    "                        # So, hypotenuse(distance) = sqrt(2^2 + 2^2) = 2.8..."
   ]
  },
  {
   "cell_type": "markdown",
   "metadata": {},
   "source": [
    "Which is possibly clearer if we write it as (the equivalent):"
   ]
  },
  {
   "cell_type": "code",
   "execution_count": 84,
   "metadata": {},
   "outputs": [
    {
     "data": {
      "text/plain": [
       "2.8284271247461903"
      ]
     },
     "execution_count": 84,
     "metadata": {},
     "output_type": "execute_result"
    }
   ],
   "source": [
    "def distance(v, w):\n",
    "    return magnitude(vector_subtract(v, w))\n",
    "\n",
    "distance([3,2], [5,4])"
   ]
  },
  {
   "cell_type": "markdown",
   "metadata": {},
   "source": [
    "## Matrices"
   ]
  },
  {
   "cell_type": "code",
   "execution_count": null,
   "metadata": {},
   "outputs": [],
   "source": []
  },
  {
   "cell_type": "code",
   "execution_count": null,
   "metadata": {},
   "outputs": [],
   "source": []
  },
  {
   "cell_type": "code",
   "execution_count": null,
   "metadata": {},
   "outputs": [],
   "source": []
  }
 ],
 "metadata": {
  "kernelspec": {
   "display_name": "Python 3",
   "language": "python",
   "name": "python3"
  },
  "language_info": {
   "codemirror_mode": {
    "name": "ipython",
    "version": 3
   },
   "file_extension": ".py",
   "mimetype": "text/x-python",
   "name": "python",
   "nbconvert_exporter": "python",
   "pygments_lexer": "ipython3",
   "version": "3.6.5"
  },
  "toc": {
   "base_numbering": 1.0,
   "nav_menu": {},
   "number_sections": true,
   "sideBar": true,
   "skip_h1_title": false,
   "title_cell": "Table of Contents",
   "title_sidebar": "Contents",
   "toc_cell": true,
   "toc_position": {
    "height": "calc(100% - 180px)",
    "left": "10px",
    "top": "150px",
    "width": "165px"
   },
   "toc_section_display": true,
   "toc_window_display": true
  }
 },
 "nbformat": 4,
 "nbformat_minor": 2
}
